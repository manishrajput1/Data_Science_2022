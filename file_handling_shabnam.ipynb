{
 "cells": [
  {
   "cell_type": "code",
   "execution_count": 1,
   "id": "8b927fce",
   "metadata": {},
   "outputs": [],
   "source": [
    "file=open('C:\\\\Users\\\\rmani\\\\Desktop\\\\student.txt')"
   ]
  },
  {
   "cell_type": "code",
   "execution_count": 2,
   "id": "b8f65bf0",
   "metadata": {},
   "outputs": [],
   "source": [
    "data=file.read()"
   ]
  },
  {
   "cell_type": "code",
   "execution_count": 3,
   "id": "0987bab1",
   "metadata": {},
   "outputs": [
    {
     "name": "stdout",
     "output_type": "stream",
     "text": [
      "Roll\tName\tsci\tmath\tcom\n",
      "101\tmann\t89\t78\t98\n",
      "102\tshan\t67\t78\t88\n",
      "103\tjeet\t88\t90\t92\n",
      "104\tneha\t76\t56\t77\n",
      "105\tram\t99\t98\t97\n",
      "\n"
     ]
    }
   ],
   "source": [
    "print(data)"
   ]
  },
  {
   "cell_type": "code",
   "execution_count": 4,
   "id": "6dc82e0a",
   "metadata": {},
   "outputs": [
    {
     "name": "stdout",
     "output_type": "stream",
     "text": [
      "'Roll\\tName\\tsci\\tmath\\tcom\\n101\\tmann\\t89\\t78\\t98\\n102\\tshan\\t67\\t78\\t88\\n103\\tjeet\\t88\\t90\\t92\\n104\\tneha\\t76\\t56\\t77\\n105\\tram\\t99\\t98\\t97\\n'\n"
     ]
    }
   ],
   "source": [
    "print(repr(data))"
   ]
  },
  {
   "cell_type": "code",
   "execution_count": 5,
   "id": "cc90936f",
   "metadata": {},
   "outputs": [],
   "source": [
    "res=data.split('\\n')"
   ]
  },
  {
   "cell_type": "code",
   "execution_count": 6,
   "id": "8033b9ee",
   "metadata": {},
   "outputs": [
    {
     "name": "stdout",
     "output_type": "stream",
     "text": [
      "['Roll\\tName\\tsci\\tmath\\tcom', '101\\tmann\\t89\\t78\\t98', '102\\tshan\\t67\\t78\\t88', '103\\tjeet\\t88\\t90\\t92', '104\\tneha\\t76\\t56\\t77', '105\\tram\\t99\\t98\\t97', '']\n"
     ]
    }
   ],
   "source": [
    "print(repr(res))"
   ]
  },
  {
   "cell_type": "code",
   "execution_count": 7,
   "id": "f8618d98",
   "metadata": {},
   "outputs": [
    {
     "data": {
      "text/plain": [
       "'Roll\\tName\\tsci\\tmath\\tcom'"
      ]
     },
     "execution_count": 7,
     "metadata": {},
     "output_type": "execute_result"
    }
   ],
   "source": [
    "res[0]"
   ]
  },
  {
   "cell_type": "code",
   "execution_count": 8,
   "id": "1f13dda0",
   "metadata": {},
   "outputs": [
    {
     "data": {
      "text/plain": [
       "'101\\tmann\\t89\\t78\\t98'"
      ]
     },
     "execution_count": 8,
     "metadata": {},
     "output_type": "execute_result"
    }
   ],
   "source": [
    "res[1]"
   ]
  },
  {
   "cell_type": "code",
   "execution_count": 9,
   "id": "50faa681",
   "metadata": {},
   "outputs": [
    {
     "data": {
      "text/plain": [
       "'102\\tshan\\t67\\t78\\t88'"
      ]
     },
     "execution_count": 9,
     "metadata": {},
     "output_type": "execute_result"
    }
   ],
   "source": [
    "res[2]"
   ]
  },
  {
   "cell_type": "code",
   "execution_count": 10,
   "id": "d911440c",
   "metadata": {},
   "outputs": [],
   "source": [
    "df=res[1:-1]"
   ]
  },
  {
   "cell_type": "code",
   "execution_count": 11,
   "id": "885ba001",
   "metadata": {},
   "outputs": [
    {
     "name": "stdout",
     "output_type": "stream",
     "text": [
      "['101\\tmann\\t89\\t78\\t98', '102\\tshan\\t67\\t78\\t88', '103\\tjeet\\t88\\t90\\t92', '104\\tneha\\t76\\t56\\t77', '105\\tram\\t99\\t98\\t97']\n"
     ]
    }
   ],
   "source": [
    "print(repr(df))"
   ]
  },
  {
   "cell_type": "code",
   "execution_count": 22,
   "id": "ffb16084",
   "metadata": {},
   "outputs": [
    {
     "name": "stdout",
     "output_type": "stream",
     "text": [
      "'101\\tmann\\t89\\t78\\t98\\t88'\n",
      "'102\\tshan\\t67\\t78\\t88\\t77'\n",
      "'103\\tjeet\\t88\\t90\\t92\\t90'\n",
      "'104\\tneha\\t76\\t56\\t77\\t69'\n",
      "'105\\tram\\t99\\t98\\t97\\t98'\n"
     ]
    }
   ],
   "source": [
    "result=[]\n",
    "for item in df:\n",
    "    i=item.split('\\t')\n",
    "    p=str(sum(map(int,i[2:]))//3)\n",
    "    i.append(p)\n",
    "    i='\\t'.join(i)\n",
    "    result.append(i)\n",
    "    print(repr(i))"
   ]
  },
  {
   "cell_type": "code",
   "execution_count": 23,
   "id": "96bdd931",
   "metadata": {},
   "outputs": [
    {
     "data": {
      "text/plain": [
       "['101\\tmann\\t89\\t78\\t98\\t88',\n",
       " '102\\tshan\\t67\\t78\\t88\\t77',\n",
       " '103\\tjeet\\t88\\t90\\t92\\t90',\n",
       " '104\\tneha\\t76\\t56\\t77\\t69',\n",
       " '105\\tram\\t99\\t98\\t97\\t98']"
      ]
     },
     "execution_count": 23,
     "metadata": {},
     "output_type": "execute_result"
    }
   ],
   "source": [
    "result"
   ]
  },
  {
   "cell_type": "code",
   "execution_count": 24,
   "id": "f3837a0d",
   "metadata": {},
   "outputs": [],
   "source": [
    "final='\\n'.join(result)"
   ]
  },
  {
   "cell_type": "code",
   "execution_count": 25,
   "id": "dc8feefc",
   "metadata": {},
   "outputs": [
    {
     "name": "stdout",
     "output_type": "stream",
     "text": [
      "'101\\tmann\\t89\\t78\\t98\\t88\\n102\\tshan\\t67\\t78\\t88\\t77\\n103\\tjeet\\t88\\t90\\t92\\t90\\n104\\tneha\\t76\\t56\\t77\\t69\\n105\\tram\\t99\\t98\\t97\\t98'\n"
     ]
    }
   ],
   "source": [
    "print(repr(final))"
   ]
  },
  {
   "cell_type": "code",
   "execution_count": 32,
   "id": "4aaba18c",
   "metadata": {},
   "outputs": [
    {
     "name": "stdout",
     "output_type": "stream",
     "text": [
      "Roll\tName\tsci\tmath\tcom\tpercent\n",
      "\n"
     ]
    }
   ],
   "source": [
    "head=res[0]+'\\tpercent\\n'\n",
    "print(head)"
   ]
  },
  {
   "cell_type": "code",
   "execution_count": 29,
   "id": "8cde7e5a",
   "metadata": {},
   "outputs": [],
   "source": [
    "final_result=head+final"
   ]
  },
  {
   "cell_type": "code",
   "execution_count": 30,
   "id": "7d7c08ff",
   "metadata": {},
   "outputs": [
    {
     "name": "stdout",
     "output_type": "stream",
     "text": [
      "'Roll\\tName\\tsci\\tmath\\tcom\\tpercent\\n101\\tmann\\t89\\t78\\t98\\t88\\n102\\tshan\\t67\\t78\\t88\\t77\\n103\\tjeet\\t88\\t90\\t92\\t90\\n104\\tneha\\t76\\t56\\t77\\t69\\n105\\tram\\t99\\t98\\t97\\t98'\n"
     ]
    }
   ],
   "source": [
    "print(repr(final_result))"
   ]
  },
  {
   "cell_type": "code",
   "execution_count": 31,
   "id": "097c3bc8",
   "metadata": {},
   "outputs": [
    {
     "name": "stdout",
     "output_type": "stream",
     "text": [
      "Roll\tName\tsci\tmath\tcom\tpercent\n",
      "101\tmann\t89\t78\t98\t88\n",
      "102\tshan\t67\t78\t88\t77\n",
      "103\tjeet\t88\t90\t92\t90\n",
      "104\tneha\t76\t56\t77\t69\n",
      "105\tram\t99\t98\t97\t98\n"
     ]
    }
   ],
   "source": [
    "print(final_result)"
   ]
  },
  {
   "cell_type": "code",
   "execution_count": null,
   "id": "f89c1641",
   "metadata": {},
   "outputs": [],
   "source": []
  }
 ],
 "metadata": {
  "kernelspec": {
   "display_name": "Python 3",
   "language": "python",
   "name": "python3"
  },
  "language_info": {
   "codemirror_mode": {
    "name": "ipython",
    "version": 3
   },
   "file_extension": ".py",
   "mimetype": "text/x-python",
   "name": "python",
   "nbconvert_exporter": "python",
   "pygments_lexer": "ipython3",
   "version": "3.6.4"
  }
 },
 "nbformat": 4,
 "nbformat_minor": 5
}
