{
 "cells": [
  {
   "cell_type": "code",
   "execution_count": 12,
   "id": "da41ffd9",
   "metadata": {},
   "outputs": [],
   "source": [
    "class parent1:\n",
    "    def p1(self):\n",
    "        return 'i am parent1'\n",
    "class parent2:\n",
    "    def p(self):\n",
    "        return 'i am parent2'\n",
    "class parent3:\n",
    "    def p(self):\n",
    "        return 'i am parent3'\n",
    "class child(parent1,parent3,parent2):  # MRO (method resolution order) (left to right)\n",
    "    def ch(self):\n",
    "        return 'i am child class'"
   ]
  },
  {
   "cell_type": "code",
   "execution_count": 13,
   "id": "26c0b8e1",
   "metadata": {},
   "outputs": [],
   "source": [
    "ob=child()"
   ]
  },
  {
   "cell_type": "code",
   "execution_count": 10,
   "id": "fe336a03",
   "metadata": {},
   "outputs": [
    {
     "name": "stdout",
     "output_type": "stream",
     "text": [
      "['__class__', '__delattr__', '__dict__', '__dir__', '__doc__', '__eq__', '__format__', '__ge__', '__getattribute__', '__gt__', '__hash__', '__init__', '__init_subclass__', '__le__', '__lt__', '__module__', '__ne__', '__new__', '__reduce__', '__reduce_ex__', '__repr__', '__setattr__', '__sizeof__', '__str__', '__subclasshook__', '__weakref__', 'ch', 'p', 'p1']\n"
     ]
    }
   ],
   "source": [
    "print(dir(ob))"
   ]
  },
  {
   "cell_type": "code",
   "execution_count": 4,
   "id": "e84f1079",
   "metadata": {},
   "outputs": [
    {
     "data": {
      "text/plain": [
       "'i am parent1'"
      ]
     },
     "execution_count": 4,
     "metadata": {},
     "output_type": "execute_result"
    }
   ],
   "source": [
    "ob.p1()"
   ]
  },
  {
   "cell_type": "code",
   "execution_count": 5,
   "id": "f3325cc0",
   "metadata": {},
   "outputs": [
    {
     "data": {
      "text/plain": [
       "'i am parent2'"
      ]
     },
     "execution_count": 5,
     "metadata": {},
     "output_type": "execute_result"
    }
   ],
   "source": [
    "ob.p2()"
   ]
  },
  {
   "cell_type": "code",
   "execution_count": 6,
   "id": "1a28c636",
   "metadata": {},
   "outputs": [
    {
     "data": {
      "text/plain": [
       "'i am parent3'"
      ]
     },
     "execution_count": 6,
     "metadata": {},
     "output_type": "execute_result"
    }
   ],
   "source": [
    "ob.p3()"
   ]
  },
  {
   "cell_type": "code",
   "execution_count": 7,
   "id": "7a4eb39d",
   "metadata": {},
   "outputs": [
    {
     "data": {
      "text/plain": [
       "'i am child class'"
      ]
     },
     "execution_count": 7,
     "metadata": {},
     "output_type": "execute_result"
    }
   ],
   "source": [
    "ob.ch()"
   ]
  },
  {
   "cell_type": "code",
   "execution_count": 14,
   "id": "23f0c30b",
   "metadata": {},
   "outputs": [
    {
     "data": {
      "text/plain": [
       "'i am parent3'"
      ]
     },
     "execution_count": 14,
     "metadata": {},
     "output_type": "execute_result"
    }
   ],
   "source": [
    "ob.p()"
   ]
  },
  {
   "cell_type": "code",
   "execution_count": 15,
   "id": "87a4ad13",
   "metadata": {},
   "outputs": [],
   "source": [
    "class parent1:\n",
    "    def p1(self):\n",
    "        return 'i am parent1'\n",
    "class parent2(parent1):\n",
    "    def p(self):\n",
    "        return 'i am parent2'\n",
    "class parent3(parent2):\n",
    "    def p(self):\n",
    "        return 'i am parent3'\n",
    "class child(parent3):  # MRO (method resolution order) (left to right)\n",
    "    def ch(self):\n",
    "        return 'i am child class'"
   ]
  },
  {
   "cell_type": "code",
   "execution_count": 16,
   "id": "88002690",
   "metadata": {},
   "outputs": [],
   "source": [
    "o=child()"
   ]
  },
  {
   "cell_type": "code",
   "execution_count": 18,
   "id": "a1d63089",
   "metadata": {},
   "outputs": [
    {
     "name": "stdout",
     "output_type": "stream",
     "text": [
      "['__class__', '__delattr__', '__dict__', '__dir__', '__doc__', '__eq__', '__format__', '__ge__', '__getattribute__', '__gt__', '__hash__', '__init__', '__init_subclass__', '__le__', '__lt__', '__module__', '__ne__', '__new__', '__reduce__', '__reduce_ex__', '__repr__', '__setattr__', '__sizeof__', '__str__', '__subclasshook__', '__weakref__', 'ch', 'p', 'p1']\n"
     ]
    }
   ],
   "source": [
    "print(dir(o))"
   ]
  },
  {
   "cell_type": "code",
   "execution_count": 19,
   "id": "b234dcab",
   "metadata": {},
   "outputs": [
    {
     "data": {
      "text/plain": [
       "'i am parent3'"
      ]
     },
     "execution_count": 19,
     "metadata": {},
     "output_type": "execute_result"
    }
   ],
   "source": [
    "o.p()"
   ]
  },
  {
   "cell_type": "code",
   "execution_count": 20,
   "id": "58ede499",
   "metadata": {},
   "outputs": [],
   "source": [
    "class mark:\n",
    "    def info(self):\n",
    "        return 'i am root node'\n",
    "class fb(mark):\n",
    "    def fb_info(self):\n",
    "        return 'i am fb '\n",
    "class insta(mark):\n",
    "    def insta_info(self):\n",
    "        return ' i am insta'\n",
    "\n",
    "class insta_reels(insta):\n",
    "    def reels(self):\n",
    "        return 'insta reels'\n",
    "class fb_post(fb):\n",
    "    def post(self):\n",
    "        return 'fb post'"
   ]
  },
  {
   "cell_type": "code",
   "execution_count": 21,
   "id": "8592a62d",
   "metadata": {},
   "outputs": [],
   "source": [
    "fb=fb_post()"
   ]
  },
  {
   "cell_type": "code",
   "execution_count": 22,
   "id": "378d20da",
   "metadata": {},
   "outputs": [],
   "source": [
    "insta=insta_reels()"
   ]
  },
  {
   "cell_type": "code",
   "execution_count": 24,
   "id": "9a0c4deb",
   "metadata": {},
   "outputs": [
    {
     "name": "stdout",
     "output_type": "stream",
     "text": [
      "['__class__', '__delattr__', '__dict__', '__dir__', '__doc__', '__eq__', '__format__', '__ge__', '__getattribute__', '__gt__', '__hash__', '__init__', '__init_subclass__', '__le__', '__lt__', '__module__', '__ne__', '__new__', '__reduce__', '__reduce_ex__', '__repr__', '__setattr__', '__sizeof__', '__str__', '__subclasshook__', '__weakref__', 'fb_info', 'info', 'post']\n"
     ]
    }
   ],
   "source": [
    "print(dir(fb))"
   ]
  },
  {
   "cell_type": "code",
   "execution_count": 25,
   "id": "c3a36fb4",
   "metadata": {},
   "outputs": [
    {
     "name": "stdout",
     "output_type": "stream",
     "text": [
      "['__class__', '__delattr__', '__dict__', '__dir__', '__doc__', '__eq__', '__format__', '__ge__', '__getattribute__', '__gt__', '__hash__', '__init__', '__init_subclass__', '__le__', '__lt__', '__module__', '__ne__', '__new__', '__reduce__', '__reduce_ex__', '__repr__', '__setattr__', '__sizeof__', '__str__', '__subclasshook__', '__weakref__', 'info', 'insta_info', 'reels']\n"
     ]
    }
   ],
   "source": [
    "print(dir(insta))"
   ]
  },
  {
   "cell_type": "code",
   "execution_count": 26,
   "id": "42be9e29",
   "metadata": {},
   "outputs": [],
   "source": [
    "# private | public | protected"
   ]
  },
  {
   "cell_type": "code",
   "execution_count": 48,
   "id": "f3a56290",
   "metadata": {},
   "outputs": [],
   "source": [
    "class A:\n",
    "    __name='manish' \n",
    "    def __show1(self):\n",
    "        print('name: ',A.__name)\n",
    "    def b(self):\n",
    "        A.__show1(self)\n",
    "    \n",
    "    # name ---> public    | _name---> protected | __name ---> private\n",
    "class B(A):\n",
    "    age=24\n",
    "    def show(self):\n",
    "        print('name: ',A.__name)\n",
    "        print('age: ',B.age)"
   ]
  },
  {
   "cell_type": "code",
   "execution_count": 45,
   "id": "c5cbeba8",
   "metadata": {},
   "outputs": [],
   "source": [
    "ob=A()"
   ]
  },
  {
   "cell_type": "code",
   "execution_count": 42,
   "id": "3cc9625f",
   "metadata": {},
   "outputs": [
    {
     "ename": "AttributeError",
     "evalue": "'A' object has no attribute '__show1'",
     "output_type": "error",
     "traceback": [
      "\u001b[1;31m---------------------------------------------------------------------------\u001b[0m",
      "\u001b[1;31mAttributeError\u001b[0m                            Traceback (most recent call last)",
      "\u001b[1;32m<ipython-input-42-46ecbeacc3c0>\u001b[0m in \u001b[0;36m<module>\u001b[1;34m\u001b[0m\n\u001b[1;32m----> 1\u001b[1;33m \u001b[0mob\u001b[0m\u001b[1;33m.\u001b[0m\u001b[0m__show1\u001b[0m\u001b[1;33m(\u001b[0m\u001b[1;33m)\u001b[0m\u001b[1;33m\u001b[0m\u001b[0m\n\u001b[0m",
      "\u001b[1;31mAttributeError\u001b[0m: 'A' object has no attribute '__show1'"
     ]
    }
   ],
   "source": [
    "ob.__show1()"
   ]
  },
  {
   "cell_type": "code",
   "execution_count": 37,
   "id": "855ca998",
   "metadata": {},
   "outputs": [
    {
     "ename": "AttributeError",
     "evalue": "type object 'A' has no attribute '_B__name'",
     "output_type": "error",
     "traceback": [
      "\u001b[1;31m---------------------------------------------------------------------------\u001b[0m",
      "\u001b[1;31mAttributeError\u001b[0m                            Traceback (most recent call last)",
      "\u001b[1;32m<ipython-input-37-78f104d76477>\u001b[0m in \u001b[0;36m<module>\u001b[1;34m\u001b[0m\n\u001b[1;32m----> 1\u001b[1;33m \u001b[0mob\u001b[0m\u001b[1;33m.\u001b[0m\u001b[0mshow\u001b[0m\u001b[1;33m(\u001b[0m\u001b[1;33m)\u001b[0m\u001b[1;33m\u001b[0m\u001b[0m\n\u001b[0m",
      "\u001b[1;32m<ipython-input-33-1ec1b9d7bac2>\u001b[0m in \u001b[0;36mshow\u001b[1;34m(self)\u001b[0m\n\u001b[0;32m      8\u001b[0m     \u001b[0mage\u001b[0m\u001b[1;33m=\u001b[0m\u001b[1;36m24\u001b[0m\u001b[1;33m\u001b[0m\u001b[0m\n\u001b[0;32m      9\u001b[0m     \u001b[1;32mdef\u001b[0m \u001b[0mshow\u001b[0m\u001b[1;33m(\u001b[0m\u001b[0mself\u001b[0m\u001b[1;33m)\u001b[0m\u001b[1;33m:\u001b[0m\u001b[1;33m\u001b[0m\u001b[0m\n\u001b[1;32m---> 10\u001b[1;33m         \u001b[0mprint\u001b[0m\u001b[1;33m(\u001b[0m\u001b[1;34m'name: '\u001b[0m\u001b[1;33m,\u001b[0m\u001b[0mA\u001b[0m\u001b[1;33m.\u001b[0m\u001b[0m__name\u001b[0m\u001b[1;33m)\u001b[0m\u001b[1;33m\u001b[0m\u001b[0m\n\u001b[0m\u001b[0;32m     11\u001b[0m         \u001b[0mprint\u001b[0m\u001b[1;33m(\u001b[0m\u001b[1;34m'age: '\u001b[0m\u001b[1;33m,\u001b[0m\u001b[0mB\u001b[0m\u001b[1;33m.\u001b[0m\u001b[0mage\u001b[0m\u001b[1;33m)\u001b[0m\u001b[1;33m\u001b[0m\u001b[0m\n",
      "\u001b[1;31mAttributeError\u001b[0m: type object 'A' has no attribute '_B__name'"
     ]
    }
   ],
   "source": [
    "ob.show()"
   ]
  },
  {
   "cell_type": "code",
   "execution_count": 49,
   "id": "68809401",
   "metadata": {},
   "outputs": [
    {
     "name": "stdout",
     "output_type": "stream",
     "text": [
      "name:  manish\n"
     ]
    }
   ],
   "source": [
    "A.b(1)"
   ]
  },
  {
   "cell_type": "code",
   "execution_count": null,
   "id": "803bd842",
   "metadata": {},
   "outputs": [],
   "source": []
  }
 ],
 "metadata": {
  "kernelspec": {
   "display_name": "Python 3",
   "language": "python",
   "name": "python3"
  },
  "language_info": {
   "codemirror_mode": {
    "name": "ipython",
    "version": 3
   },
   "file_extension": ".py",
   "mimetype": "text/x-python",
   "name": "python",
   "nbconvert_exporter": "python",
   "pygments_lexer": "ipython3",
   "version": "3.6.4"
  }
 },
 "nbformat": 4,
 "nbformat_minor": 5
}
