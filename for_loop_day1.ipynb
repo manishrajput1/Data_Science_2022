{
 "cells": [
  {
   "cell_type": "markdown",
   "id": "5105edf6",
   "metadata": {},
   "source": [
    "                    For loop\n",
    "                    \n",
    "                    \n",
    "                    syntax:\n",
    "                    \n",
    "                    for var in sequence:        # sequence---> str,list,tuple,range()\n",
    "                        statement"
   ]
  },
  {
   "cell_type": "code",
   "execution_count": 1,
   "id": "1becd612",
   "metadata": {},
   "outputs": [],
   "source": [
    "from keyword import kwlist"
   ]
  },
  {
   "cell_type": "code",
   "execution_count": 2,
   "id": "987b15eb",
   "metadata": {},
   "outputs": [
    {
     "name": "stdout",
     "output_type": "stream",
     "text": [
      "['False', 'None', 'True', 'and', 'as', 'assert', 'break', 'class', 'continue', 'def', 'del', 'elif', 'else', 'except', 'finally', 'for', 'from', 'global', 'if', 'import', 'in', 'is', 'lambda', 'nonlocal', 'not', 'or', 'pass', 'raise', 'return', 'try', 'while', 'with', 'yield']\n"
     ]
    }
   ],
   "source": [
    "print(kwlist)"
   ]
  },
  {
   "cell_type": "code",
   "execution_count": 3,
   "id": "ba65d056",
   "metadata": {},
   "outputs": [],
   "source": [
    "s='hello manish'  # indexing charwise"
   ]
  },
  {
   "cell_type": "code",
   "execution_count": 4,
   "id": "c4f17aa3",
   "metadata": {},
   "outputs": [
    {
     "data": {
      "text/plain": [
       "str"
      ]
     },
     "execution_count": 4,
     "metadata": {},
     "output_type": "execute_result"
    }
   ],
   "source": [
    "type(s)"
   ]
  },
  {
   "cell_type": "code",
   "execution_count": 5,
   "id": "141cb278",
   "metadata": {},
   "outputs": [
    {
     "name": "stdout",
     "output_type": "stream",
     "text": [
      "h\n",
      "e\n",
      "l\n",
      "l\n",
      "o\n",
      " \n",
      "m\n",
      "a\n",
      "n\n",
      "i\n",
      "s\n",
      "h\n"
     ]
    }
   ],
   "source": [
    "for i in s:\n",
    "    print(i)"
   ]
  },
  {
   "cell_type": "code",
   "execution_count": 6,
   "id": "f262f08e",
   "metadata": {},
   "outputs": [],
   "source": [
    "l=['manish','neha','shriya','adarsh','dhrumil'] # elementwise"
   ]
  },
  {
   "cell_type": "code",
   "execution_count": 7,
   "id": "326ed51d",
   "metadata": {},
   "outputs": [
    {
     "name": "stdout",
     "output_type": "stream",
     "text": [
      "manish\n",
      "neha\n",
      "shriya\n",
      "adarsh\n",
      "dhrumil\n"
     ]
    }
   ],
   "source": [
    "for i in l:\n",
    "    print(i)"
   ]
  },
  {
   "cell_type": "code",
   "execution_count": 8,
   "id": "e61b029b",
   "metadata": {},
   "outputs": [
    {
     "data": {
      "text/plain": [
       "list"
      ]
     },
     "execution_count": 8,
     "metadata": {},
     "output_type": "execute_result"
    }
   ],
   "source": [
    "type(l)"
   ]
  },
  {
   "cell_type": "code",
   "execution_count": 9,
   "id": "014c8b57",
   "metadata": {},
   "outputs": [],
   "source": [
    "t=('manish','shan',100,'naha','shriya')"
   ]
  },
  {
   "cell_type": "code",
   "execution_count": 10,
   "id": "097d2281",
   "metadata": {},
   "outputs": [
    {
     "data": {
      "text/plain": [
       "tuple"
      ]
     },
     "execution_count": 10,
     "metadata": {},
     "output_type": "execute_result"
    }
   ],
   "source": [
    "type(t)"
   ]
  },
  {
   "cell_type": "code",
   "execution_count": 11,
   "id": "83ecf6c8",
   "metadata": {},
   "outputs": [
    {
     "name": "stdout",
     "output_type": "stream",
     "text": [
      "manish\n",
      "shan\n",
      "100\n",
      "naha\n",
      "shriya\n"
     ]
    }
   ],
   "source": [
    "for i in t:\n",
    "    print(i)"
   ]
  },
  {
   "cell_type": "code",
   "execution_count": 12,
   "id": "a9a4b00b",
   "metadata": {},
   "outputs": [],
   "source": [
    "# range()    # integer number"
   ]
  },
  {
   "cell_type": "code",
   "execution_count": 21,
   "id": "c8cc2364",
   "metadata": {},
   "outputs": [],
   "source": [
    "# range(10)   # end=10-1 , start=0   -------> 0 , 1, 2, ......9\n",
    "# range(10,30) # start=10 end=30-1   ---->\n",
    "# range(5,20,2) # start 5 , end=20 , step =2 -----> 5,7,9,11,\n",
    "# range(startpoint,endpoint,step) # default start=0 , step=1\n"
   ]
  },
  {
   "cell_type": "code",
   "execution_count": 14,
   "id": "aa2fc661",
   "metadata": {},
   "outputs": [],
   "source": [
    "# list  | tuple\n",
    "\n",
    "# list ----> mutable \n",
    "# tuple ---> immutable\n",
    "\n",
    "# list ---> more memory accu compare to tuple"
   ]
  },
  {
   "cell_type": "code",
   "execution_count": 15,
   "id": "782980b1",
   "metadata": {},
   "outputs": [],
   "source": [
    "#list | tuple  ------> collection of data  type"
   ]
  },
  {
   "cell_type": "code",
   "execution_count": 16,
   "id": "f0f0402c",
   "metadata": {},
   "outputs": [],
   "source": [
    "l=['manish',24,65.7,'jaipur']\n",
    "a=('manish',24,65.7,'jaipur')"
   ]
  },
  {
   "cell_type": "code",
   "execution_count": 17,
   "id": "b01e83c3",
   "metadata": {},
   "outputs": [
    {
     "data": {
      "text/plain": [
       "['manish', 24, 65.7, 'jaipur']"
      ]
     },
     "execution_count": 17,
     "metadata": {},
     "output_type": "execute_result"
    }
   ],
   "source": [
    "l"
   ]
  },
  {
   "cell_type": "code",
   "execution_count": 18,
   "id": "25f3df54",
   "metadata": {},
   "outputs": [
    {
     "data": {
      "text/plain": [
       "('manish', 24, 65.7, 'jaipur')"
      ]
     },
     "execution_count": 18,
     "metadata": {},
     "output_type": "execute_result"
    }
   ],
   "source": [
    "a"
   ]
  },
  {
   "cell_type": "code",
   "execution_count": 19,
   "id": "b90ec07b",
   "metadata": {},
   "outputs": [
    {
     "data": {
      "text/plain": [
       "36"
      ]
     },
     "execution_count": 19,
     "metadata": {},
     "output_type": "execute_result"
    }
   ],
   "source": [
    "l.__sizeof__()"
   ]
  },
  {
   "cell_type": "code",
   "execution_count": 20,
   "id": "433bfdfa",
   "metadata": {},
   "outputs": [
    {
     "data": {
      "text/plain": [
       "28"
      ]
     },
     "execution_count": 20,
     "metadata": {},
     "output_type": "execute_result"
    }
   ],
   "source": [
    "a.__sizeof__()"
   ]
  },
  {
   "cell_type": "code",
   "execution_count": 22,
   "id": "39810c73",
   "metadata": {},
   "outputs": [
    {
     "name": "stdout",
     "output_type": "stream",
     "text": [
      "0\n",
      "1\n",
      "2\n",
      "3\n",
      "4\n",
      "5\n",
      "6\n",
      "7\n",
      "8\n",
      "9\n"
     ]
    }
   ],
   "source": [
    "for i in range(10):\n",
    "    print(i)"
   ]
  },
  {
   "cell_type": "code",
   "execution_count": 23,
   "id": "05e72656",
   "metadata": {},
   "outputs": [
    {
     "name": "stdout",
     "output_type": "stream",
     "text": [
      "10\n",
      "11\n",
      "12\n",
      "13\n",
      "14\n",
      "15\n",
      "16\n",
      "17\n",
      "18\n",
      "19\n"
     ]
    }
   ],
   "source": [
    "for i in range(10,20):\n",
    "    print(i)"
   ]
  },
  {
   "cell_type": "code",
   "execution_count": 24,
   "id": "1c62c911",
   "metadata": {},
   "outputs": [
    {
     "name": "stdout",
     "output_type": "stream",
     "text": [
      "6\n",
      "8\n",
      "10\n",
      "12\n",
      "14\n",
      "16\n",
      "18\n",
      "20\n",
      "22\n",
      "24\n",
      "26\n",
      "28\n",
      "30\n"
     ]
    }
   ],
   "source": [
    "for i in range(6,31,2):\n",
    "    print(i)"
   ]
  },
  {
   "cell_type": "code",
   "execution_count": 25,
   "id": "7aa6aa36",
   "metadata": {},
   "outputs": [],
   "source": [
    "# hello world    print 10 times"
   ]
  },
  {
   "cell_type": "code",
   "execution_count": 26,
   "id": "04582e7c",
   "metadata": {},
   "outputs": [
    {
     "name": "stdout",
     "output_type": "stream",
     "text": [
      "hello world\n",
      "hello world\n",
      "hello world\n",
      "hello world\n",
      "hello world\n",
      "hello world\n",
      "hello world\n",
      "hello world\n",
      "hello world\n",
      "hello world\n"
     ]
    }
   ],
   "source": [
    "for i in range(10):\n",
    "    print('hello world')"
   ]
  },
  {
   "cell_type": "code",
   "execution_count": 27,
   "id": "61802ed7",
   "metadata": {},
   "outputs": [
    {
     "name": "stdout",
     "output_type": "stream",
     "text": [
      "hello python\n",
      "hello python\n",
      "hello python\n",
      "hello python\n",
      "hello python\n",
      "hello python\n",
      "hello python\n",
      "hello python\n",
      "hello python\n",
      "hello python\n",
      "hello python\n",
      "hello python\n",
      "hello python\n"
     ]
    }
   ],
   "source": [
    "for i in 'manish rajput':\n",
    "    print('hello python')"
   ]
  },
  {
   "cell_type": "code",
   "execution_count": 28,
   "id": "cc7322ec",
   "metadata": {},
   "outputs": [],
   "source": [
    "# 0 to 100 print all even number"
   ]
  },
  {
   "cell_type": "code",
   "execution_count": 39,
   "id": "e269b059",
   "metadata": {},
   "outputs": [
    {
     "name": "stdout",
     "output_type": "stream",
     "text": [
      "1 | 3 | 5 | 7 | 9 | 11 | 13 | 15 | 17 | 19 | 21 | 23 | 25 | 27 | 29 | 31 | 33 | 35 | 37 | 39 | 41 | 43 | 45 | 47 | 49 | 51 | 53 | 55 | 57 | 59 | 61 | 63 | 65 | 67 | 69 | 71 | 73 | 75 | 77 | 79 | 81 | 83 | 85 | 87 | 89 | 91 | 93 | 95 | 97 | 99 | "
     ]
    }
   ],
   "source": [
    "for i in range(1,101,2):\n",
    "    print(i,end=' | ')"
   ]
  },
  {
   "cell_type": "code",
   "execution_count": 31,
   "id": "b04f0a51",
   "metadata": {},
   "outputs": [],
   "source": [
    "# patterns--->"
   ]
  },
  {
   "cell_type": "markdown",
   "id": "712a6ab9",
   "metadata": {},
   "source": [
    "                                *       1*'*'\n",
    "                                **      2*'*'\n",
    "                                ***     3*'*'\n",
    "                                ****    4*'*'\n",
    "                                *****\n",
    "                                ******\n",
    "                                *******"
   ]
  },
  {
   "cell_type": "code",
   "execution_count": 40,
   "id": "f29c9c2d",
   "metadata": {},
   "outputs": [
    {
     "data": {
      "text/plain": [
       "'*****'"
      ]
     },
     "execution_count": 40,
     "metadata": {},
     "output_type": "execute_result"
    }
   ],
   "source": [
    "'*'*5"
   ]
  },
  {
   "cell_type": "code",
   "execution_count": 42,
   "id": "71f2989e",
   "metadata": {},
   "outputs": [
    {
     "name": "stdout",
     "output_type": "stream",
     "text": [
      "*\n",
      "**\n",
      "***\n",
      "****\n",
      "*****\n",
      "******\n",
      "*******\n",
      "********\n",
      "*********\n",
      "**********\n"
     ]
    }
   ],
   "source": [
    "for i in range(1,11):\n",
    "    print(i*'*')"
   ]
  },
  {
   "cell_type": "markdown",
   "id": "f916b880",
   "metadata": {},
   "source": [
    "                                    **********\n",
    "                                    *********\n",
    "                                    ********\n",
    "                                    *******\n",
    "                                    ******\n",
    "                                    *****\n",
    "                                    ****\n",
    "                                    ***\n",
    "                                    **\n",
    "                                    *"
   ]
  },
  {
   "cell_type": "code",
   "execution_count": 43,
   "id": "55167958",
   "metadata": {},
   "outputs": [
    {
     "name": "stdout",
     "output_type": "stream",
     "text": [
      "**********\n",
      "*********\n",
      "********\n",
      "*******\n",
      "******\n",
      "*****\n",
      "****\n",
      "***\n",
      "**\n",
      "*\n"
     ]
    }
   ],
   "source": [
    "for i in range(10,0,-1):\n",
    "    print(i*'*')"
   ]
  },
  {
   "cell_type": "markdown",
   "id": "4aab39c7",
   "metadata": {},
   "source": [
    "                                    *\n",
    "                                   **\n",
    "                                  ***\n",
    "                                 ****\n",
    "                                *****\n",
    "                               ******\n",
    "                              *******\n",
    "                             ********\n",
    "                            *********"
   ]
  },
  {
   "cell_type": "code",
   "execution_count": 45,
   "id": "0bc9fd30",
   "metadata": {},
   "outputs": [
    {
     "name": "stdout",
     "output_type": "stream",
     "text": [
      "          *\n",
      "         **\n",
      "        ***\n",
      "       ****\n",
      "      *****\n",
      "     ******\n",
      "    *******\n",
      "   ********\n",
      "  *********\n",
      " **********\n"
     ]
    }
   ],
   "source": [
    "for i in range(1,11):\n",
    "    print(' '*(11-i)+'*'*i)"
   ]
  },
  {
   "cell_type": "code",
   "execution_count": 49,
   "id": "26fa96a2",
   "metadata": {},
   "outputs": [
    {
     "name": "stdout",
     "output_type": "stream",
     "text": [
      "1\n",
      "22\n",
      "333\n",
      "4444\n",
      "55555\n"
     ]
    }
   ],
   "source": [
    "for i in range(1,6):\n",
    "    print(i*str(i))    "
   ]
  },
  {
   "cell_type": "code",
   "execution_count": null,
   "id": "8cdc6715",
   "metadata": {},
   "outputs": [],
   "source": []
  }
 ],
 "metadata": {
  "kernelspec": {
   "display_name": "Python 3",
   "language": "python",
   "name": "python3"
  },
  "language_info": {
   "codemirror_mode": {
    "name": "ipython",
    "version": 3
   },
   "file_extension": ".py",
   "mimetype": "text/x-python",
   "name": "python",
   "nbconvert_exporter": "python",
   "pygments_lexer": "ipython3",
   "version": "3.6.4"
  }
 },
 "nbformat": 4,
 "nbformat_minor": 5
}
