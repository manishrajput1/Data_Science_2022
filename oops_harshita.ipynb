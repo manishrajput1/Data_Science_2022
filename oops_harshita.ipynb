{
 "cells": [
  {
   "cell_type": "code",
   "execution_count": 2,
   "id": "2e8f2fad",
   "metadata": {},
   "outputs": [],
   "source": [
    "# oops\n",
    "# class\n",
    "# method\n",
    "# object \n",
    "# scope\n",
    "# inheritance"
   ]
  },
  {
   "cell_type": "code",
   "execution_count": 10,
   "id": "f3d71704",
   "metadata": {},
   "outputs": [],
   "source": [
    "class demo:\n",
    "    def show(self):\n",
    "        print('self: = ',self)\n",
    "        return 'hello world'"
   ]
  },
  {
   "cell_type": "code",
   "execution_count": 11,
   "id": "968f124c",
   "metadata": {},
   "outputs": [],
   "source": [
    "obj=demo()"
   ]
  },
  {
   "cell_type": "code",
   "execution_count": 12,
   "id": "7efba60e",
   "metadata": {},
   "outputs": [
    {
     "name": "stdout",
     "output_type": "stream",
     "text": [
      "self: =  <__main__.demo object at 0x06107BB0>\n"
     ]
    },
    {
     "data": {
      "text/plain": [
       "'hello world'"
      ]
     },
     "execution_count": 12,
     "metadata": {},
     "output_type": "execute_result"
    }
   ],
   "source": [
    "obj.show()\n",
    "# __new__ method  ----> obj"
   ]
  },
  {
   "cell_type": "code",
   "execution_count": 9,
   "id": "1dbbf5a4",
   "metadata": {},
   "outputs": [
    {
     "name": "stdout",
     "output_type": "stream",
     "text": [
      "<__main__.demo object at 0x061075F0>\n"
     ]
    }
   ],
   "source": [
    "print(obj)"
   ]
  },
  {
   "cell_type": "code",
   "execution_count": 22,
   "id": "3d85e14f",
   "metadata": {},
   "outputs": [],
   "source": [
    "x=10\n",
    "class test:\n",
    "    y=100\n",
    "    def add(self):\n",
    "        global x\n",
    "        x+=50\n",
    "        return test.y"
   ]
  },
  {
   "cell_type": "code",
   "execution_count": 23,
   "id": "189df87b",
   "metadata": {},
   "outputs": [],
   "source": [
    "ob=test()"
   ]
  },
  {
   "cell_type": "code",
   "execution_count": 24,
   "id": "a5913e2d",
   "metadata": {},
   "outputs": [
    {
     "data": {
      "text/plain": [
       "100"
      ]
     },
     "execution_count": 24,
     "metadata": {},
     "output_type": "execute_result"
    }
   ],
   "source": [
    "ob.add()"
   ]
  },
  {
   "cell_type": "code",
   "execution_count": 29,
   "id": "939c1fd5",
   "metadata": {},
   "outputs": [],
   "source": [
    "class robot:\n",
    "    def getdata(self):\n",
    "        self.name='manish'\n",
    "        self.course='python'\n",
    "        self.age=24\n",
    "    def showdata(self):\n",
    "        print('employee name : ',self.name)\n",
    "        print('employee technology : ',self.course)\n",
    "        print('employee age: ',self.age)"
   ]
  },
  {
   "cell_type": "code",
   "execution_count": 30,
   "id": "d9f3b23c",
   "metadata": {},
   "outputs": [],
   "source": [
    "obj=robot()"
   ]
  },
  {
   "cell_type": "code",
   "execution_count": 31,
   "id": "09c83304",
   "metadata": {},
   "outputs": [],
   "source": [
    "obj.getdata()"
   ]
  },
  {
   "cell_type": "code",
   "execution_count": 32,
   "id": "e7fac68a",
   "metadata": {},
   "outputs": [
    {
     "name": "stdout",
     "output_type": "stream",
     "text": [
      "employee name :  manish\n",
      "employee technology :  python\n",
      "employee age:  24\n"
     ]
    }
   ],
   "source": [
    "obj.showdata()"
   ]
  },
  {
   "cell_type": "code",
   "execution_count": 33,
   "id": "88cc0ca1",
   "metadata": {},
   "outputs": [
    {
     "data": {
      "text/plain": [
       "'manish'"
      ]
     },
     "execution_count": 33,
     "metadata": {},
     "output_type": "execute_result"
    }
   ],
   "source": [
    "obj.name"
   ]
  },
  {
   "cell_type": "code",
   "execution_count": 34,
   "id": "7dd86c11",
   "metadata": {},
   "outputs": [
    {
     "data": {
      "text/plain": [
       "'python'"
      ]
     },
     "execution_count": 34,
     "metadata": {},
     "output_type": "execute_result"
    }
   ],
   "source": [
    "obj.course"
   ]
  },
  {
   "cell_type": "code",
   "execution_count": 35,
   "id": "4c74e7ed",
   "metadata": {},
   "outputs": [
    {
     "data": {
      "text/plain": [
       "24"
      ]
     },
     "execution_count": 35,
     "metadata": {},
     "output_type": "execute_result"
    }
   ],
   "source": [
    "obj.age"
   ]
  },
  {
   "cell_type": "code",
   "execution_count": 36,
   "id": "8993298f",
   "metadata": {},
   "outputs": [],
   "source": [
    "class harshita:\n",
    "    def get(self):\n",
    "        self.name='harshita'\n",
    "    def show(self):\n",
    "        print('client name: ',self.name)"
   ]
  },
  {
   "cell_type": "code",
   "execution_count": 37,
   "id": "82e5d074",
   "metadata": {},
   "outputs": [],
   "source": [
    "ob=harshita()"
   ]
  },
  {
   "cell_type": "code",
   "execution_count": 39,
   "id": "95aad3e4",
   "metadata": {},
   "outputs": [],
   "source": [
    "ob.get()"
   ]
  },
  {
   "cell_type": "code",
   "execution_count": 40,
   "id": "5b25a77b",
   "metadata": {},
   "outputs": [
    {
     "name": "stdout",
     "output_type": "stream",
     "text": [
      "client name:  harshita\n"
     ]
    }
   ],
   "source": [
    "ob.show()"
   ]
  },
  {
   "cell_type": "code",
   "execution_count": 41,
   "id": "50a21f73",
   "metadata": {},
   "outputs": [],
   "source": [
    "# constructor"
   ]
  },
  {
   "cell_type": "code",
   "execution_count": 53,
   "id": "4ab0fd4e",
   "metadata": {},
   "outputs": [],
   "source": [
    "class python:\n",
    "    def __init__(self):\n",
    "        self.name='manish rajput'\n",
    "        print('constructor execute')\n",
    "    def showd(self):\n",
    "        print('client name: ',self.name)\n",
    "    def __str__(self):\n",
    "        return  'hello i am string method'\n",
    "    def __del__(self):\n",
    "        print('deleting everything')\n",
    "        del self\n",
    "              "
   ]
  },
  {
   "cell_type": "code",
   "execution_count": 50,
   "id": "a35ed601",
   "metadata": {},
   "outputs": [
    {
     "name": "stdout",
     "output_type": "stream",
     "text": [
      "constructor execute\n"
     ]
    }
   ],
   "source": [
    "o=python()"
   ]
  },
  {
   "cell_type": "code",
   "execution_count": 51,
   "id": "0c2d67f6",
   "metadata": {},
   "outputs": [
    {
     "name": "stdout",
     "output_type": "stream",
     "text": [
      "client name:  manish rajput\n"
     ]
    }
   ],
   "source": [
    "o.showd()"
   ]
  },
  {
   "cell_type": "code",
   "execution_count": 52,
   "id": "6e73fa18",
   "metadata": {},
   "outputs": [
    {
     "name": "stdout",
     "output_type": "stream",
     "text": [
      "hello i am string method\n"
     ]
    }
   ],
   "source": [
    "print(o)"
   ]
  },
  {
   "cell_type": "code",
   "execution_count": 55,
   "id": "1638f669",
   "metadata": {},
   "outputs": [
    {
     "name": "stdout",
     "output_type": "stream",
     "text": [
      "constructor execute\n"
     ]
    }
   ],
   "source": [
    "obj=python()"
   ]
  },
  {
   "cell_type": "code",
   "execution_count": 56,
   "id": "7efbde6f",
   "metadata": {},
   "outputs": [
    {
     "name": "stdout",
     "output_type": "stream",
     "text": [
      "client name:  manish rajput\n"
     ]
    }
   ],
   "source": [
    "obj.showd()"
   ]
  },
  {
   "cell_type": "code",
   "execution_count": 57,
   "id": "45043e29",
   "metadata": {},
   "outputs": [
    {
     "name": "stdout",
     "output_type": "stream",
     "text": [
      "hello i am string method\n"
     ]
    }
   ],
   "source": [
    "print(obj)"
   ]
  },
  {
   "cell_type": "code",
   "execution_count": 58,
   "id": "d3e16e5a",
   "metadata": {},
   "outputs": [
    {
     "name": "stdout",
     "output_type": "stream",
     "text": [
      "deleting everything\n"
     ]
    }
   ],
   "source": [
    "del obj"
   ]
  },
  {
   "cell_type": "code",
   "execution_count": 59,
   "id": "7441620e",
   "metadata": {},
   "outputs": [
    {
     "ename": "NameError",
     "evalue": "name 'obj' is not defined",
     "output_type": "error",
     "traceback": [
      "\u001b[1;31m---------------------------------------------------------------------------\u001b[0m",
      "\u001b[1;31mNameError\u001b[0m                                 Traceback (most recent call last)",
      "\u001b[1;32m<ipython-input-59-789b5c96746e>\u001b[0m in \u001b[0;36m<module>\u001b[1;34m\u001b[0m\n\u001b[1;32m----> 1\u001b[1;33m \u001b[0mprint\u001b[0m\u001b[1;33m(\u001b[0m\u001b[0mobj\u001b[0m\u001b[1;33m)\u001b[0m\u001b[1;33m\u001b[0m\u001b[0m\n\u001b[0m",
      "\u001b[1;31mNameError\u001b[0m: name 'obj' is not defined"
     ]
    }
   ],
   "source": [
    "print(obj)"
   ]
  },
  {
   "cell_type": "code",
   "execution_count": 60,
   "id": "b62d1447",
   "metadata": {},
   "outputs": [
    {
     "ename": "NameError",
     "evalue": "name 'obj' is not defined",
     "output_type": "error",
     "traceback": [
      "\u001b[1;31m---------------------------------------------------------------------------\u001b[0m",
      "\u001b[1;31mNameError\u001b[0m                                 Traceback (most recent call last)",
      "\u001b[1;32m<ipython-input-60-bdbafe04593e>\u001b[0m in \u001b[0;36m<module>\u001b[1;34m\u001b[0m\n\u001b[1;32m----> 1\u001b[1;33m \u001b[0mobj\u001b[0m\u001b[1;33m.\u001b[0m\u001b[0mshowd\u001b[0m\u001b[1;33m(\u001b[0m\u001b[1;33m)\u001b[0m\u001b[1;33m\u001b[0m\u001b[0m\n\u001b[0m",
      "\u001b[1;31mNameError\u001b[0m: name 'obj' is not defined"
     ]
    }
   ],
   "source": [
    "obj.showd()"
   ]
  },
  {
   "cell_type": "code",
   "execution_count": 62,
   "id": "16195e83",
   "metadata": {},
   "outputs": [],
   "source": [
    "#inheritance\n",
    "# single  ---> one to one \n",
    "# multiple  \n",
    "# multi level\n",
    "# heirarchy\n",
    "# hybrid"
   ]
  },
  {
   "cell_type": "code",
   "execution_count": 63,
   "id": "a8bddc65",
   "metadata": {},
   "outputs": [],
   "source": [
    "class parent:\n",
    "    def p1(self):\n",
    "        return 'hello i am parent class method'\n",
    "class child(parent):\n",
    "    def ch(self):\n",
    "        return 'hello i am child class method'"
   ]
  },
  {
   "cell_type": "code",
   "execution_count": 64,
   "id": "fcf422db",
   "metadata": {},
   "outputs": [],
   "source": [
    "ob=child()"
   ]
  },
  {
   "cell_type": "code",
   "execution_count": 65,
   "id": "0284d221",
   "metadata": {},
   "outputs": [
    {
     "name": "stdout",
     "output_type": "stream",
     "text": [
      "['__class__', '__delattr__', '__dict__', '__dir__', '__doc__', '__eq__', '__format__', '__ge__', '__getattribute__', '__gt__', '__hash__', '__init__', '__init_subclass__', '__le__', '__lt__', '__module__', '__ne__', '__new__', '__reduce__', '__reduce_ex__', '__repr__', '__setattr__', '__sizeof__', '__str__', '__subclasshook__', '__weakref__', 'ch', 'p1']\n"
     ]
    }
   ],
   "source": [
    "print(dir(ob))"
   ]
  },
  {
   "cell_type": "code",
   "execution_count": 66,
   "id": "0bb19408",
   "metadata": {},
   "outputs": [
    {
     "data": {
      "text/plain": [
       "'hello i am parent class method'"
      ]
     },
     "execution_count": 66,
     "metadata": {},
     "output_type": "execute_result"
    }
   ],
   "source": [
    "ob.p1()"
   ]
  },
  {
   "cell_type": "code",
   "execution_count": 67,
   "id": "4e37128e",
   "metadata": {},
   "outputs": [
    {
     "data": {
      "text/plain": [
       "'hello i am child class method'"
      ]
     },
     "execution_count": 67,
     "metadata": {},
     "output_type": "execute_result"
    }
   ],
   "source": [
    "ob.ch()"
   ]
  },
  {
   "cell_type": "code",
   "execution_count": null,
   "id": "017a651e",
   "metadata": {},
   "outputs": [],
   "source": []
  }
 ],
 "metadata": {
  "kernelspec": {
   "display_name": "Python 3",
   "language": "python",
   "name": "python3"
  },
  "language_info": {
   "codemirror_mode": {
    "name": "ipython",
    "version": 3
   },
   "file_extension": ".py",
   "mimetype": "text/x-python",
   "name": "python",
   "nbconvert_exporter": "python",
   "pygments_lexer": "ipython3",
   "version": "3.6.4"
  }
 },
 "nbformat": 4,
 "nbformat_minor": 5
}
