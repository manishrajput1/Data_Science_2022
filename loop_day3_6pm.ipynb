{
 "cells": [
  {
   "cell_type": "code",
   "execution_count": 1,
   "id": "d733e961",
   "metadata": {},
   "outputs": [
    {
     "name": "stdout",
     "output_type": "stream",
     "text": [
      "1 \n",
      "1 2 \n",
      "1 2 3 \n",
      "1 2 3 4 \n",
      "1 2 3 4 5 \n"
     ]
    }
   ],
   "source": [
    "for i in range(1,6):\n",
    "    for j in range(1,i+1):\n",
    "        print(j,end=' ')\n",
    "    print()"
   ]
  },
  {
   "cell_type": "code",
   "execution_count": 2,
   "id": "99676b1d",
   "metadata": {},
   "outputs": [
    {
     "name": "stdout",
     "output_type": "stream",
     "text": [
      "2 \n",
      "3 4 \n",
      "4 5 6 \n",
      "5 6 7 8 \n",
      "6 7 8 9 10 \n"
     ]
    }
   ],
   "source": [
    "c=2\n",
    "for i in range(2,11,2):\n",
    "    for j in range(c,i+1):\n",
    "        print(j,end=' ')\n",
    "    c+=1\n",
    "    print()"
   ]
  },
  {
   "cell_type": "code",
   "execution_count": 8,
   "id": "6247df30",
   "metadata": {},
   "outputs": [
    {
     "name": "stdout",
     "output_type": "stream",
     "text": [
      "1 \n",
      "0 1 \n",
      "1 0 1 \n",
      "0 1 0 1 \n",
      "1 0 1 0 1 \n"
     ]
    }
   ],
   "source": [
    "for i in range(1,6):\n",
    "    if i%2:\n",
    "        r=range(1,i+1)\n",
    "    else:\n",
    "        r=range(0,i)\n",
    "    for j in r:\n",
    "        if j%2==0:\n",
    "            print('0',end=' ')\n",
    "        else:\n",
    "            print('1',end=' ')\n",
    "    print()"
   ]
  },
  {
   "cell_type": "code",
   "execution_count": 11,
   "id": "84584828",
   "metadata": {},
   "outputs": [
    {
     "name": "stdout",
     "output_type": "stream",
     "text": [
      "1 \n",
      "2 3 \n",
      "4 5 6 \n",
      "7 8 9 10 \n",
      "11 12 13 14 15 \n"
     ]
    }
   ],
   "source": [
    "c=1\n",
    "for i in range(1,6):\n",
    "    for j in range(i):\n",
    "        print(c,end=' ')\n",
    "        c+=1\n",
    "    print()"
   ]
  },
  {
   "cell_type": "markdown",
   "id": "f4138357",
   "metadata": {},
   "source": [
    "                                \n",
    "                                \n",
    "                                \n",
    "                                        \n",
    "                                "
   ]
  },
  {
   "cell_type": "markdown",
   "id": "539a6a01",
   "metadata": {},
   "source": [
    "                                *\n",
    "                               **\n",
    "                              ***\n",
    "                             ****\n",
    "                            *****\n",
    "                           ******\n",
    "                          *******\n",
    "                          \n",
    "                          --------*       ' '*(10-i)+'*'*i\n",
    "                          -------**       ' '*(10-i)+'*'*i\n",
    "                          ------***\n",
    "                          -----****\n",
    "                          ----*****\n",
    "                          ---******\n",
    "                          --*******\n",
    "                          -********\n",
    "                          *********"
   ]
  },
  {
   "cell_type": "code",
   "execution_count": 12,
   "id": "2ec394a6",
   "metadata": {},
   "outputs": [
    {
     "name": "stdout",
     "output_type": "stream",
     "text": [
      "         *\n",
      "        **\n",
      "       ***\n",
      "      ****\n",
      "     *****\n",
      "    ******\n",
      "   *******\n",
      "  ********\n",
      " *********\n"
     ]
    }
   ],
   "source": [
    "for i in range(1,10):\n",
    "    print(' '*(10-i)+'*'*i)"
   ]
  },
  {
   "cell_type": "code",
   "execution_count": null,
   "id": "0fbfe222",
   "metadata": {},
   "outputs": [],
   "source": [
    "# file_handling----"
   ]
  }
 ],
 "metadata": {
  "kernelspec": {
   "display_name": "Python 3",
   "language": "python",
   "name": "python3"
  },
  "language_info": {
   "codemirror_mode": {
    "name": "ipython",
    "version": 3
   },
   "file_extension": ".py",
   "mimetype": "text/x-python",
   "name": "python",
   "nbconvert_exporter": "python",
   "pygments_lexer": "ipython3",
   "version": "3.6.4"
  }
 },
 "nbformat": 4,
 "nbformat_minor": 5
}
