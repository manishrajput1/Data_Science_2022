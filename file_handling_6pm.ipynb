{
 "cells": [
  {
   "cell_type": "code",
   "execution_count": 1,
   "id": "4d2d8b66",
   "metadata": {},
   "outputs": [
    {
     "name": "stdout",
     "output_type": "stream",
     "text": [
      "1\t2\t3\t4\t5\t6\t7\t8\t9\t10\t11\t12\t13\t14\t15\t16\t17\t18\t19\t20\t21\t22\t23\t24\t25\t26\t27\t28\t29\t30\t31\t32\t33\t34\t35\t36\t37\t38\t39\t40\t41\t42\t43\t44\t45\t46\t47\t48\t49\t50\t51\t52\t53\t54\t55\t56\t57\t58\t59\t60\t61\t62\t63\t64\t65\t66\t67\t68\t69\t70\t71\t72\t73\t74\t75\t76\t77\t78\t79\t80\t"
     ]
    }
   ],
   "source": [
    "c=1\n",
    "for i in range(10):\n",
    "    for i in range(8):\n",
    "        print(c,end='\\t')\n",
    "        c+=1"
   ]
  },
  {
   "cell_type": "code",
   "execution_count": 5,
   "id": "e9c1256b",
   "metadata": {},
   "outputs": [
    {
     "name": "stdout",
     "output_type": "stream",
     "text": [
      "* * * * * * * \n",
      "* *         * \n",
      "*   *       * \n",
      "*     *     * \n",
      "*       *   * \n",
      "* * * * * * * \n",
      "            * \n"
     ]
    }
   ],
   "source": [
    "for i in range(7):\n",
    "    for j in range(7):\n",
    "        if i==0 or i==5 or (j==0 and i!=6) or j==6 or i==j:\n",
    "            print('*',end=' ')\n",
    "        else:\n",
    "            print(end='  ')\n",
    "    print()"
   ]
  },
  {
   "cell_type": "code",
   "execution_count": 6,
   "id": "887cf184",
   "metadata": {},
   "outputs": [],
   "source": [
    "# r=123====>6\n",
    "# y=456---->15"
   ]
  },
  {
   "cell_type": "code",
   "execution_count": 8,
   "id": "8dd96293",
   "metadata": {},
   "outputs": [
    {
     "name": "stdout",
     "output_type": "stream",
     "text": [
      "enter any number: 456\n",
      "15\n"
     ]
    }
   ],
   "source": [
    "m=input('enter any number: ')\n",
    "s=0\n",
    "for i in m:\n",
    "    s=s+int(i)\n",
    "print(s)"
   ]
  },
  {
   "cell_type": "code",
   "execution_count": 9,
   "id": "1eda0fe5",
   "metadata": {},
   "outputs": [
    {
     "data": {
      "text/plain": [
       "'456'"
      ]
     },
     "execution_count": 9,
     "metadata": {},
     "output_type": "execute_result"
    }
   ],
   "source": [
    "m"
   ]
  },
  {
   "cell_type": "code",
   "execution_count": 10,
   "id": "1b548cdc",
   "metadata": {},
   "outputs": [],
   "source": [
    "t=123"
   ]
  },
  {
   "cell_type": "code",
   "execution_count": 11,
   "id": "46477b3d",
   "metadata": {},
   "outputs": [
    {
     "data": {
      "text/plain": [
       "123"
      ]
     },
     "execution_count": 11,
     "metadata": {},
     "output_type": "execute_result"
    }
   ],
   "source": [
    "t"
   ]
  },
  {
   "cell_type": "code",
   "execution_count": 12,
   "id": "59ede4f2",
   "metadata": {},
   "outputs": [
    {
     "data": {
      "text/plain": [
       "3"
      ]
     },
     "execution_count": 12,
     "metadata": {},
     "output_type": "execute_result"
    }
   ],
   "source": [
    "t%10"
   ]
  },
  {
   "cell_type": "code",
   "execution_count": 14,
   "id": "3a127d7c",
   "metadata": {},
   "outputs": [],
   "source": [
    "t=t//10"
   ]
  },
  {
   "cell_type": "code",
   "execution_count": 15,
   "id": "d1c4d813",
   "metadata": {},
   "outputs": [
    {
     "data": {
      "text/plain": [
       "12"
      ]
     },
     "execution_count": 15,
     "metadata": {},
     "output_type": "execute_result"
    }
   ],
   "source": [
    "t"
   ]
  },
  {
   "cell_type": "code",
   "execution_count": 16,
   "id": "f482afaa",
   "metadata": {},
   "outputs": [
    {
     "data": {
      "text/plain": [
       "2"
      ]
     },
     "execution_count": 16,
     "metadata": {},
     "output_type": "execute_result"
    }
   ],
   "source": [
    "t%10"
   ]
  },
  {
   "cell_type": "code",
   "execution_count": 17,
   "id": "bc34fe53",
   "metadata": {},
   "outputs": [
    {
     "data": {
      "text/plain": [
       "1"
      ]
     },
     "execution_count": 17,
     "metadata": {},
     "output_type": "execute_result"
    }
   ],
   "source": [
    "t//10"
   ]
  },
  {
   "cell_type": "markdown",
   "id": "e996aa57",
   "metadata": {},
   "source": [
    "# File Handling"
   ]
  },
  {
   "cell_type": "markdown",
   "id": "5c31a8a3",
   "metadata": {},
   "source": [
    "                 file----->\n",
    "                 there are two type:\n",
    "                 1. Text file(txt,cvs,tsv,fwf,hdf,html,json,sql)\n",
    "                 2. binary file(img,audio,video,email,xml)"
   ]
  },
  {
   "cell_type": "code",
   "execution_count": 18,
   "id": "497cff26",
   "metadata": {},
   "outputs": [],
   "source": [
    "# open(path,mode)\n",
    "# text file\n",
    "# mode-->r (read only)\n",
    "# mode---> w (write only)\n",
    "# mode---> a (append only)"
   ]
  },
  {
   "cell_type": "code",
   "execution_count": 19,
   "id": "a9a7bdad",
   "metadata": {},
   "outputs": [
    {
     "data": {
      "text/plain": [
       "'C:\\\\Users\\\\rmani'"
      ]
     },
     "execution_count": 19,
     "metadata": {},
     "output_type": "execute_result"
    }
   ],
   "source": [
    "pwd"
   ]
  },
  {
   "cell_type": "code",
   "execution_count": 21,
   "id": "8682b353",
   "metadata": {},
   "outputs": [],
   "source": [
    "file=open('C:\\\\Users\\\\rmani\\\\Desktop\\\\shabnam.txt','w')"
   ]
  },
  {
   "cell_type": "code",
   "execution_count": 22,
   "id": "732252aa",
   "metadata": {},
   "outputs": [
    {
     "data": {
      "text/plain": [
       "<_io.TextIOWrapper name='C:\\\\Users\\\\rmani\\\\Desktop\\\\shabnam.txt' mode='w' encoding='cp1252'>"
      ]
     },
     "execution_count": 22,
     "metadata": {},
     "output_type": "execute_result"
    }
   ],
   "source": [
    "file"
   ]
  },
  {
   "cell_type": "code",
   "execution_count": 23,
   "id": "1a875473",
   "metadata": {},
   "outputs": [
    {
     "data": {
      "text/plain": [
       "26"
      ]
     },
     "execution_count": 23,
     "metadata": {},
     "output_type": "execute_result"
    }
   ],
   "source": [
    "file.write('hello shabnam how are you?')"
   ]
  },
  {
   "cell_type": "code",
   "execution_count": 24,
   "id": "24cc1ed6",
   "metadata": {},
   "outputs": [],
   "source": [
    "file.close()"
   ]
  },
  {
   "cell_type": "code",
   "execution_count": 36,
   "id": "c382d4a2",
   "metadata": {},
   "outputs": [],
   "source": [
    "f=open('C:\\\\Users\\\\rmani\\\\Desktop\\\\tarun.txt','r')"
   ]
  },
  {
   "cell_type": "code",
   "execution_count": 30,
   "id": "967f3c2b",
   "metadata": {},
   "outputs": [
    {
     "data": {
      "text/plain": [
       "<_io.TextIOWrapper name='C:\\\\Users\\\\rmani\\\\Desktop\\\\tarun.txt' mode='r' encoding='cp1252'>"
      ]
     },
     "execution_count": 30,
     "metadata": {},
     "output_type": "execute_result"
    }
   ],
   "source": [
    "f"
   ]
  },
  {
   "cell_type": "code",
   "execution_count": 31,
   "id": "671ddbb1",
   "metadata": {},
   "outputs": [
    {
     "name": "stdout",
     "output_type": "stream",
     "text": [
      "hello tarun  how are you?\n",
      "hello python\n"
     ]
    }
   ],
   "source": [
    "print(f.read())"
   ]
  },
  {
   "cell_type": "code",
   "execution_count": 32,
   "id": "5de9db8e",
   "metadata": {},
   "outputs": [],
   "source": [
    "f1=open('C:\\\\Users\\\\rmani\\\\Desktop\\\\shabnam.txt','a')"
   ]
  },
  {
   "cell_type": "code",
   "execution_count": 34,
   "id": "5eb3f393",
   "metadata": {},
   "outputs": [
    {
     "data": {
      "text/plain": [
       "32"
      ]
     },
     "execution_count": 34,
     "metadata": {},
     "output_type": "execute_result"
    }
   ],
   "source": [
    "f1.write('\\nhello manish whats going on....')"
   ]
  },
  {
   "cell_type": "code",
   "execution_count": 35,
   "id": "cd752f07",
   "metadata": {},
   "outputs": [],
   "source": [
    "f1.close()"
   ]
  },
  {
   "cell_type": "code",
   "execution_count": 37,
   "id": "6d0023ca",
   "metadata": {},
   "outputs": [
    {
     "data": {
      "text/plain": [
       "<_io.TextIOWrapper name='C:\\\\Users\\\\rmani\\\\Desktop\\\\tarun.txt' mode='r' encoding='cp1252'>"
      ]
     },
     "execution_count": 37,
     "metadata": {},
     "output_type": "execute_result"
    }
   ],
   "source": [
    "f"
   ]
  },
  {
   "cell_type": "code",
   "execution_count": 38,
   "id": "c03d97f8",
   "metadata": {},
   "outputs": [
    {
     "data": {
      "text/plain": [
       "'hello tarun  how are you?\\n'"
      ]
     },
     "execution_count": 38,
     "metadata": {},
     "output_type": "execute_result"
    }
   ],
   "source": [
    "f.readline()"
   ]
  },
  {
   "cell_type": "code",
   "execution_count": 39,
   "id": "8d83eb57",
   "metadata": {},
   "outputs": [
    {
     "data": {
      "text/plain": [
       "'hello python'"
      ]
     },
     "execution_count": 39,
     "metadata": {},
     "output_type": "execute_result"
    }
   ],
   "source": [
    "f.readline()"
   ]
  },
  {
   "cell_type": "markdown",
   "id": "d25767ad",
   "metadata": {},
   "source": [
    "                                            roll    name     sci  math  com  percent\n",
    "                                            101     mann      90   87    67    87\n",
    "                                            "
   ]
  }
 ],
 "metadata": {
  "kernelspec": {
   "display_name": "Python 3",
   "language": "python",
   "name": "python3"
  },
  "language_info": {
   "codemirror_mode": {
    "name": "ipython",
    "version": 3
   },
   "file_extension": ".py",
   "mimetype": "text/x-python",
   "name": "python",
   "nbconvert_exporter": "python",
   "pygments_lexer": "ipython3",
   "version": "3.6.4"
  }
 },
 "nbformat": 4,
 "nbformat_minor": 5
}
