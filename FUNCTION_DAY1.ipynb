{
 "cells": [
  {
   "cell_type": "code",
   "execution_count": 1,
   "id": "d4aa67e9",
   "metadata": {},
   "outputs": [],
   "source": [
    "# 1. Function definition\n",
    "# 2. function docstring | optional\n",
    "# 3. function suite ---code\n",
    "# 4. return statement ---> \n",
    "# 5. function calling"
   ]
  },
  {
   "cell_type": "code",
   "execution_count": 3,
   "id": "d0a80fb3",
   "metadata": {},
   "outputs": [],
   "source": [
    "def testing():  # function definition\n",
    "    '''this is simple testing function'''  # docstring\n",
    "    a=int(input('enter a: '))     # function suite\n",
    "    b=int(input('Enter b: '))\n",
    "    c=a+b\n",
    "    return c  # return statement\n",
    "    "
   ]
  },
  {
   "cell_type": "code",
   "execution_count": 4,
   "id": "ded75d10",
   "metadata": {},
   "outputs": [
    {
     "name": "stdout",
     "output_type": "stream",
     "text": [
      "enter a: 10\n",
      "Enter b: 20\n"
     ]
    },
    {
     "data": {
      "text/plain": [
       "30"
      ]
     },
     "execution_count": 4,
     "metadata": {},
     "output_type": "execute_result"
    }
   ],
   "source": [
    "testing() # function calling"
   ]
  },
  {
   "cell_type": "code",
   "execution_count": 5,
   "id": "61f66844",
   "metadata": {},
   "outputs": [
    {
     "name": "stdout",
     "output_type": "stream",
     "text": [
      "enter a: 30\n",
      "Enter b: 40\n"
     ]
    },
    {
     "data": {
      "text/plain": [
       "70"
      ]
     },
     "execution_count": 5,
     "metadata": {},
     "output_type": "execute_result"
    }
   ],
   "source": [
    "testing()"
   ]
  },
  {
   "cell_type": "code",
   "execution_count": 6,
   "id": "37203ecc",
   "metadata": {},
   "outputs": [],
   "source": [
    "def testing1():  # function definition\n",
    "    '''this is simple testing function'''  # docstring\n",
    "    a=int(input('enter a: '))     # function suite\n",
    "    b=int(input('Enter b: '))\n",
    "    c=a+b\n",
    "    return c "
   ]
  },
  {
   "cell_type": "code",
   "execution_count": 7,
   "id": "deac5d52",
   "metadata": {},
   "outputs": [],
   "source": [
    "def testing2():  # function definition\n",
    "    '''this is simple testing function'''  # docstring\n",
    "    a=int(input('enter a: '))     # function suite\n",
    "    b=int(input('Enter b: '))\n",
    "    c=a+b\n",
    "    print(c) "
   ]
  },
  {
   "cell_type": "code",
   "execution_count": 9,
   "id": "83e775ac",
   "metadata": {},
   "outputs": [
    {
     "name": "stdout",
     "output_type": "stream",
     "text": [
      "enter a: 20\n",
      "Enter b: 40\n"
     ]
    }
   ],
   "source": [
    "a=testing1()"
   ]
  },
  {
   "cell_type": "code",
   "execution_count": 10,
   "id": "484f38e8",
   "metadata": {},
   "outputs": [
    {
     "name": "stdout",
     "output_type": "stream",
     "text": [
      "enter a: 10\n",
      "Enter b: 20\n",
      "30\n"
     ]
    }
   ],
   "source": [
    "b=testing2()"
   ]
  },
  {
   "cell_type": "code",
   "execution_count": 11,
   "id": "d5f36139",
   "metadata": {},
   "outputs": [
    {
     "name": "stdout",
     "output_type": "stream",
     "text": [
      "60\n"
     ]
    }
   ],
   "source": [
    "print(a)"
   ]
  },
  {
   "cell_type": "code",
   "execution_count": 12,
   "id": "01a79919",
   "metadata": {},
   "outputs": [
    {
     "name": "stdout",
     "output_type": "stream",
     "text": [
      "None\n"
     ]
    }
   ],
   "source": [
    "print(b)"
   ]
  },
  {
   "cell_type": "code",
   "execution_count": 13,
   "id": "a15b631b",
   "metadata": {},
   "outputs": [],
   "source": [
    "# arguments\n",
    "# positional\n",
    "# default\n",
    "# keyword"
   ]
  },
  {
   "cell_type": "code",
   "execution_count": 17,
   "id": "28166282",
   "metadata": {},
   "outputs": [],
   "source": [
    "def add(a,b):  # here a nd b are argument  positional agrument\n",
    "    print('value of a: ',a)\n",
    "    print('value of b: ',b)\n",
    "    c=a+b\n",
    "    return c"
   ]
  },
  {
   "cell_type": "code",
   "execution_count": 21,
   "id": "237c4215",
   "metadata": {},
   "outputs": [
    {
     "name": "stdout",
     "output_type": "stream",
     "text": [
      "value of a:  20\n",
      "value of b:  30\n"
     ]
    },
    {
     "data": {
      "text/plain": [
       "50"
      ]
     },
     "execution_count": 21,
     "metadata": {},
     "output_type": "execute_result"
    }
   ],
   "source": [
    "add(20,30)"
   ]
  },
  {
   "cell_type": "code",
   "execution_count": 34,
   "id": "dcaaf939",
   "metadata": {},
   "outputs": [],
   "source": [
    "def add1(a=5,b=10,e='\\n'):   # default argument\n",
    "    print('value of a: ',a)\n",
    "    print('value of b: ',b)\n",
    "    print('value of end= ',repr(e))\n",
    "    c=a+b\n",
    "    return c"
   ]
  },
  {
   "cell_type": "code",
   "execution_count": 37,
   "id": "ebe6276d",
   "metadata": {},
   "outputs": [
    {
     "name": "stdout",
     "output_type": "stream",
     "text": [
      "value of a:  5\n",
      "value of b:  10\n",
      "value of end=  ' '\n"
     ]
    },
    {
     "data": {
      "text/plain": [
       "15"
      ]
     },
     "execution_count": 37,
     "metadata": {},
     "output_type": "execute_result"
    }
   ],
   "source": [
    "add1(e=' ')"
   ]
  },
  {
   "cell_type": "code",
   "execution_count": 38,
   "id": "0684dcf0",
   "metadata": {},
   "outputs": [],
   "source": [
    "# keyword"
   ]
  },
  {
   "cell_type": "code",
   "execution_count": 42,
   "id": "39956941",
   "metadata": {},
   "outputs": [],
   "source": [
    "def add(*a):\n",
    "    print(list(a))\n",
    "    return sum(a)"
   ]
  },
  {
   "cell_type": "code",
   "execution_count": 44,
   "id": "2f0748d9",
   "metadata": {},
   "outputs": [
    {
     "name": "stdout",
     "output_type": "stream",
     "text": [
      "[10, 20, 4, 5, 6, 7, 889]\n"
     ]
    },
    {
     "data": {
      "text/plain": [
       "941"
      ]
     },
     "execution_count": 44,
     "metadata": {},
     "output_type": "execute_result"
    }
   ],
   "source": [
    "add(10,20,4,5,6,7,889)"
   ]
  },
  {
   "cell_type": "markdown",
   "id": "acdca23c",
   "metadata": {},
   "source": [
    "` rock | paper |  scissor\n",
    "\n",
    "com , user    win\n",
    "r      p      user\n",
    "p      s      user\n",
    "s      r      user\n"
   ]
  },
  {
   "cell_type": "code",
   "execution_count": 5,
   "id": "fc16bd6e",
   "metadata": {},
   "outputs": [],
   "source": [
    "# com , user\n",
    "def rps():\n",
    "    c=1\n",
    "    co=0\n",
    "    us=0\n",
    "    ti=0\n",
    "    while c<=5:\n",
    "        p=['r','p','s']\n",
    "       \n",
    "        print('*'*78)\n",
    "        print()\n",
    "        print(f'you have {6-c} chance left'.center(70))\n",
    "        print()\n",
    "        print('*'*78)\n",
    "        user_win_ch=[('r','p'),('p','s'),('s','r')]\n",
    "        import random\n",
    "        com=random.choice(p)\n",
    "        user=input('Enter your choice: r | p | s: ')\n",
    "        res=(com,user)\n",
    "        print('your choice :',user)\n",
    "        print('computer choice: ',com)\n",
    "        if res in user_win_ch:\n",
    "            print('you win')\n",
    "            us+=1\n",
    "        elif com==user:\n",
    "            print('match tie')\n",
    "            ti+=1\n",
    "        else:\n",
    "            print('computer win')\n",
    "            co+=1\n",
    "        print('*'*78)\n",
    "        print()\n",
    "        print(f'com: {co} \\t user: {us} \\t tie: {ti}'.center(80))\n",
    "        print()\n",
    "        print('*'*78)\n",
    "        print()\n",
    "        c+=1"
   ]
  },
  {
   "cell_type": "raw",
   "id": "dbee03fb",
   "metadata": {},
   "source": [
    "rps()"
   ]
  },
  {
   "cell_type": "code",
   "execution_count": 47,
   "id": "d31b9aee",
   "metadata": {},
   "outputs": [],
   "source": []
  },
  {
   "cell_type": "code",
   "execution_count": 60,
   "id": "5f33521d",
   "metadata": {},
   "outputs": [
    {
     "data": {
      "text/plain": [
       "'s'"
      ]
     },
     "execution_count": 60,
     "metadata": {},
     "output_type": "execute_result"
    }
   ],
   "source": []
  },
  {
   "cell_type": "code",
   "execution_count": 6,
   "id": "df61147f",
   "metadata": {},
   "outputs": [
    {
     "name": "stdout",
     "output_type": "stream",
     "text": [
      "******************************************************************************\n",
      "\n",
      "                           com: 0 \t user: 0 \t tie: 0                            \n",
      "\n",
      "******************************************************************************\n",
      "\n",
      "******************************************************************************\n",
      "\n",
      "                        you have 5 chance left                        \n",
      "\n",
      "******************************************************************************\n",
      "Enter your choice: r | p | s: p\n",
      "your choice : p\n",
      "computer choice:  s\n",
      "computer win\n",
      "******************************************************************************\n",
      "\n",
      "                           com: 1 \t user: 0 \t tie: 0                            \n",
      "\n",
      "******************************************************************************\n",
      "\n",
      "******************************************************************************\n",
      "\n",
      "                        you have 4 chance left                        \n",
      "\n",
      "******************************************************************************\n",
      "Enter your choice: r | p | s: r\n",
      "your choice : r\n",
      "computer choice:  r\n",
      "match tie\n",
      "******************************************************************************\n",
      "\n",
      "                           com: 1 \t user: 0 \t tie: 1                            \n",
      "\n",
      "******************************************************************************\n",
      "\n",
      "******************************************************************************\n",
      "\n",
      "                        you have 3 chance left                        \n",
      "\n",
      "******************************************************************************\n",
      "Enter your choice: r | p | s: s\n",
      "your choice : s\n",
      "computer choice:  r\n",
      "computer win\n",
      "******************************************************************************\n",
      "\n",
      "                           com: 2 \t user: 0 \t tie: 1                            \n",
      "\n",
      "******************************************************************************\n",
      "\n",
      "******************************************************************************\n",
      "\n",
      "                        you have 2 chance left                        \n",
      "\n",
      "******************************************************************************\n",
      "Enter your choice: r | p | s: p\n",
      "your choice : p\n",
      "computer choice:  p\n",
      "match tie\n",
      "******************************************************************************\n",
      "\n",
      "                           com: 2 \t user: 0 \t tie: 2                            \n",
      "\n",
      "******************************************************************************\n",
      "\n",
      "******************************************************************************\n",
      "\n",
      "                        you have 1 chance left                        \n",
      "\n",
      "******************************************************************************\n",
      "Enter your choice: r | p | s: p\n",
      "your choice : p\n",
      "computer choice:  p\n",
      "match tie\n"
     ]
    }
   ],
   "source": [
    "rps()"
   ]
  },
  {
   "cell_type": "code",
   "execution_count": 72,
   "id": "a797309e",
   "metadata": {},
   "outputs": [],
   "source": [
    "d={'name':'naam','home':'ghar'}"
   ]
  },
  {
   "cell_type": "code",
   "execution_count": 73,
   "id": "af5ee359",
   "metadata": {},
   "outputs": [
    {
     "data": {
      "text/plain": [
       "'naam'"
      ]
     },
     "execution_count": 73,
     "metadata": {},
     "output_type": "execute_result"
    }
   ],
   "source": [
    "d['name']"
   ]
  },
  {
   "cell_type": "code",
   "execution_count": 74,
   "id": "1583be4e",
   "metadata": {},
   "outputs": [
    {
     "data": {
      "text/plain": [
       "'ghar'"
      ]
     },
     "execution_count": 74,
     "metadata": {},
     "output_type": "execute_result"
    }
   ],
   "source": [
    "d['home']"
   ]
  },
  {
   "cell_type": "code",
   "execution_count": 75,
   "id": "b99b1e16",
   "metadata": {},
   "outputs": [],
   "source": [
    "l=['name']"
   ]
  },
  {
   "cell_type": "markdown",
   "id": "5ed69d59",
   "metadata": {},
   "source": [
    "#  Bank Application  "
   ]
  },
  {
   "cell_type": "markdown",
   "id": "32d4681d",
   "metadata": {},
   "source": [
    "                 1. signup\n",
    "                 2. login\n",
    "                 3. debit , credit , check_balance\n",
    "                 4. change password | forget password\n",
    "                 "
   ]
  },
  {
   "cell_type": "code",
   "execution_count": 30,
   "id": "bc8ef96f",
   "metadata": {},
   "outputs": [
    {
     "name": "stdout",
     "output_type": "stream",
     "text": [
      "132321\n"
     ]
    }
   ],
   "source": [
    "# otp-----> 576564\n",
    "import random\n",
    "otp=''\n",
    "for i in range(6):\n",
    "    otp=otp+str(random.randint(0,9))\n",
    "print(otp)"
   ]
  },
  {
   "cell_type": "code",
   "execution_count": 31,
   "id": "41d6be1f",
   "metadata": {},
   "outputs": [],
   "source": [
    "e=random.randint(0,9)"
   ]
  },
  {
   "cell_type": "code",
   "execution_count": 32,
   "id": "270b3db7",
   "metadata": {},
   "outputs": [
    {
     "data": {
      "text/plain": [
       "9"
      ]
     },
     "execution_count": 32,
     "metadata": {},
     "output_type": "execute_result"
    }
   ],
   "source": [
    "e"
   ]
  },
  {
   "cell_type": "code",
   "execution_count": 33,
   "id": "568b6311",
   "metadata": {},
   "outputs": [
    {
     "data": {
      "text/plain": [
       "int"
      ]
     },
     "execution_count": 33,
     "metadata": {},
     "output_type": "execute_result"
    }
   ],
   "source": [
    "type(e)"
   ]
  },
  {
   "cell_type": "code",
   "execution_count": 34,
   "id": "e4d9f00c",
   "metadata": {},
   "outputs": [],
   "source": [
    "r='6'"
   ]
  },
  {
   "cell_type": "code",
   "execution_count": 36,
   "id": "8ee08f03",
   "metadata": {},
   "outputs": [
    {
     "data": {
      "text/plain": [
       "'67'"
      ]
     },
     "execution_count": 36,
     "metadata": {},
     "output_type": "execute_result"
    }
   ],
   "source": [
    "r+'7'"
   ]
  },
  {
   "cell_type": "code",
   "execution_count": 37,
   "id": "95c9b960",
   "metadata": {},
   "outputs": [],
   "source": [
    "#gmail host ---> smtp.gmail.com \n",
    "# port---> 587\n"
   ]
  },
  {
   "cell_type": "code",
   "execution_count": 5,
   "id": "4a9cb116",
   "metadata": {},
   "outputs": [],
   "source": [
    "import smtplib"
   ]
  },
  {
   "cell_type": "code",
   "execution_count": 6,
   "id": "2ccd7e51",
   "metadata": {},
   "outputs": [
    {
     "data": {
      "text/plain": [
       "{}"
      ]
     },
     "execution_count": 6,
     "metadata": {},
     "output_type": "execute_result"
    }
   ],
   "source": [
    "import random\n",
    "otp=''\n",
    "for i in range(6):\n",
    "    otp=otp+str(random.randint(0,9))\n",
    "con=smtplib.SMTP('smtp.gmail.com',587)\n",
    "con.starttls()\n",
    "con.login('bankapplication7@gmail.com','Bankapp@')\n",
    "con.sendmail('bankapplication7@gmail.com','sshabnamshaikh123@gmail.com',f'Subject: OTP \\n\\n {otp}')"
   ]
  },
  {
   "cell_type": "code",
   "execution_count": 1,
   "id": "1246e82a",
   "metadata": {},
   "outputs": [],
   "source": [
    "data={1001:{'name':'manish','pass':'mann@123','email':'rmanish911@gmail.com','bal':10000},\n",
    "     1002:{'name':'shan','pass':'shan@123','email':'rmanish911@gmail.com','bal':20000}}"
   ]
  },
  {
   "cell_type": "code",
   "execution_count": 2,
   "id": "dd6c70c5",
   "metadata": {},
   "outputs": [],
   "source": [
    "import sys\n",
    "def main():\n",
    "    print('*'*78)\n",
    "    print('Welcome to bank application'.center(80))\n",
    "    print('*'*78)\n",
    "    print()\n",
    "    print('1. Signup \\t 2. Login \\t 3. Exit')\n",
    "    print()\n",
    "    usr=int(input('Enter your choice'))\n",
    "    if usr==1:\n",
    "        Signup()\n",
    "    elif usr==2:\n",
    "        Login()\n",
    "    elif usr==3:\n",
    "        sys.exit()\n",
    "    else:\n",
    "        print('invalid option')"
   ]
  },
  {
   "cell_type": "code",
   "execution_count": 3,
   "id": "15943531",
   "metadata": {},
   "outputs": [],
   "source": [
    "from getpass import getpass\n",
    "def Signup():\n",
    "    name=input('Enter your name: ')\n",
    "    email=input('Enter your email: ')\n",
    "    pas=getpass('Enter your password: ')\n",
    "    bal=10000\n",
    "    import random\n",
    "    import smtplib\n",
    "    otp=''\n",
    "    for i in range(6):\n",
    "        otp=otp+str(random.randint(0,9))\n",
    "    con=smtplib.SMTP('smtp.gmail.com',587)\n",
    "    con.starttls()\n",
    "    con.login('bankapplication7@gmail.com','Bankapp@')\n",
    "    con.sendmail('bankapplication7@gmail.com',email,f'Subject: OTP \\n\\n {otp}')\n",
    "    ot=input('Enter otp: ')\n",
    "    if otp==ot:\n",
    "        ac=list(data.keys())[-1]+1\n",
    "        data[ac]={'name':name,'pass':pas,'email':email,'bal':bal}\n",
    "        print('your created...')\n",
    "        print('your account number is : ',ac)\n",
    "    else:\n",
    "        print('invalid otp....')\n",
    "    "
   ]
  },
  {
   "cell_type": "code",
   "execution_count": 4,
   "id": "2eec0590",
   "metadata": {},
   "outputs": [],
   "source": [
    "def Login():\n",
    "    ac=int(input('Enter your account number: '))\n",
    "    if ac in data.keys():\n",
    "        pas=getpass('Enter password')\n",
    "        if data[ac]['pass']==pas:\n",
    "            print('Login success....')\n",
    "            print()\n",
    "            print('1. Credit \\t 2. Debit \\t 3. bal_check \\t 4. Exit')\n",
    "            us=int(input('Enter your choice: '))\n",
    "            if us==1:\n",
    "                Credit(ac)\n",
    "            elif us==2:\n",
    "                Debit(ac)\n",
    "            elif us==3:\n",
    "                bal(ac)\n",
    "            elif us==4:\n",
    "                sys.exit()\n",
    "            else:\n",
    "                print('invalid choice ')\n",
    "        else:\n",
    "            print('invalid username or password')\n",
    "    else:\n",
    "        print('no result found, first go to signup...')"
   ]
  },
  {
   "cell_type": "code",
   "execution_count": 11,
   "id": "4cfa6d1e",
   "metadata": {},
   "outputs": [],
   "source": [
    "def Credit(ac):\n",
    "    amount=int(input('Enter amount : '))\n",
    "    data[ac]['bal']+=amount\n",
    "    print(f'your amount {amount} has been credited in your account...')\n",
    "    print()\n",
    "    print(f'your updated balance is:  {data[ac][\"bal\"]}')"
   ]
  },
  {
   "cell_type": "code",
   "execution_count": 14,
   "id": "01f0d06d",
   "metadata": {},
   "outputs": [],
   "source": [
    "def Credit(ac):\n",
    "    amount=int(input('Enter amount : '))\n",
    "    data[ac]['bal']+=amount\n",
    "    print(f'your amount {amount} has been credited in your account...')\n",
    "    print()\n",
    "    print(f'your updated balance is:  {data[ac][\"bal\"]}')\n",
    "def Debit(ac):\n",
    "    amount=int(input('Enter amount: '))\n",
    "    if data[ac]['bal']>=amount:\n",
    "        data[ac]['bal']-=amount\n",
    "        print(f'your amount {amount} has been debited in your account...')\n",
    "        print()\n",
    "        print(f'your updated balance is:  {data[ac][\"bal\"]}')\n",
    "    else:\n",
    "        print('insufficient balance ')"
   ]
  },
  {
   "cell_type": "code",
   "execution_count": 18,
   "id": "d654462b",
   "metadata": {},
   "outputs": [],
   "source": [
    "def bal(ac):\n",
    "    print(f'your current balance is:  {data[ac][\"bal\"]}')"
   ]
  },
  {
   "cell_type": "code",
   "execution_count": 29,
   "id": "a26abbfb",
   "metadata": {},
   "outputs": [
    {
     "data": {
      "text/plain": [
       "dict_keys([1001, 1002, 1003, 1004])"
      ]
     },
     "execution_count": 29,
     "metadata": {},
     "output_type": "execute_result"
    }
   ],
   "source": [
    "data.keys()"
   ]
  },
  {
   "cell_type": "code",
   "execution_count": 32,
   "id": "3bae3000",
   "metadata": {},
   "outputs": [
    {
     "data": {
      "text/plain": [
       "'ss@123'"
      ]
     },
     "execution_count": 32,
     "metadata": {},
     "output_type": "execute_result"
    }
   ],
   "source": [
    "data[1004]['pass']"
   ]
  },
  {
   "cell_type": "code",
   "execution_count": 17,
   "id": "6a83f2d7",
   "metadata": {},
   "outputs": [
    {
     "name": "stdout",
     "output_type": "stream",
     "text": [
      "******************************************************************************\n",
      "                          Welcome to bank application                           \n",
      "******************************************************************************\n",
      "\n",
      "1. Signup \t 2. Login \t 3. Exit\n",
      "\n",
      "Enter your choice2\n",
      "Enter your account number: 1001\n",
      "Enter password········\n",
      "Login success....\n",
      "\n",
      "1. Credit \t 2. Debit \t 3. bal_check \t 4. Exit\n",
      "Enter your choice: 3\n",
      "your updated balance is:  35000\n"
     ]
    }
   ],
   "source": [
    "main()"
   ]
  },
  {
   "cell_type": "code",
   "execution_count": 12,
   "id": "997a9bd1",
   "metadata": {},
   "outputs": [
    {
     "name": "stdout",
     "output_type": "stream",
     "text": [
      "******************************************************************************\n",
      "                          Welcome to bank application                           \n",
      "******************************************************************************\n",
      "\n",
      "1. Signup \t 2. Login \t 3. Exit\n",
      "\n",
      "Enter your choice2\n",
      "Enter your account number: 1001\n",
      "Enter password········\n",
      "Login success....\n",
      "\n",
      "1. Credit \t 2. Debit \t 3. bal_check \t 4. Exit\n",
      "Enter your choice: 1\n",
      "Enter amount : 30000\n",
      "your amount 30000 has been credited in your account...\n",
      "\n",
      "your updated balance is:  40000\n"
     ]
    }
   ],
   "source": [
    "main()"
   ]
  },
  {
   "cell_type": "code",
   "execution_count": 13,
   "id": "fb50985b",
   "metadata": {},
   "outputs": [
    {
     "data": {
      "text/plain": [
       "40000"
      ]
     },
     "execution_count": 13,
     "metadata": {},
     "output_type": "execute_result"
    }
   ],
   "source": [
    "data[1001]['bal']"
   ]
  },
  {
   "cell_type": "code",
   "execution_count": null,
   "id": "182370dd",
   "metadata": {},
   "outputs": [],
   "source": [
    "data"
   ]
  }
 ],
 "metadata": {
  "kernelspec": {
   "display_name": "Python 3",
   "language": "python",
   "name": "python3"
  },
  "language_info": {
   "codemirror_mode": {
    "name": "ipython",
    "version": 3
   },
   "file_extension": ".py",
   "mimetype": "text/x-python",
   "name": "python",
   "nbconvert_exporter": "python",
   "pygments_lexer": "ipython3",
   "version": "3.6.4"
  }
 },
 "nbformat": 4,
 "nbformat_minor": 5
}
