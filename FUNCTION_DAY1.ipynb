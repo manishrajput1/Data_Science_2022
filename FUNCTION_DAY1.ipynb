{
 "cells": [
  {
   "cell_type": "code",
   "execution_count": 1,
   "id": "d4aa67e9",
   "metadata": {},
   "outputs": [],
   "source": [
    "# 1. Function definition\n",
    "# 2. function docstring | optional\n",
    "# 3. function suite ---code\n",
    "# 4. return statement ---> \n",
    "# 5. function calling"
   ]
  },
  {
   "cell_type": "code",
   "execution_count": 3,
   "id": "d0a80fb3",
   "metadata": {},
   "outputs": [],
   "source": [
    "def testing():  # function definition\n",
    "    '''this is simple testing function'''  # docstring\n",
    "    a=int(input('enter a: '))     # function suite\n",
    "    b=int(input('Enter b: '))\n",
    "    c=a+b\n",
    "    return c  # return statement\n",
    "    "
   ]
  },
  {
   "cell_type": "code",
   "execution_count": 4,
   "id": "ded75d10",
   "metadata": {},
   "outputs": [
    {
     "name": "stdout",
     "output_type": "stream",
     "text": [
      "enter a: 10\n",
      "Enter b: 20\n"
     ]
    },
    {
     "data": {
      "text/plain": [
       "30"
      ]
     },
     "execution_count": 4,
     "metadata": {},
     "output_type": "execute_result"
    }
   ],
   "source": [
    "testing() # function calling"
   ]
  },
  {
   "cell_type": "code",
   "execution_count": 5,
   "id": "61f66844",
   "metadata": {},
   "outputs": [
    {
     "name": "stdout",
     "output_type": "stream",
     "text": [
      "enter a: 30\n",
      "Enter b: 40\n"
     ]
    },
    {
     "data": {
      "text/plain": [
       "70"
      ]
     },
     "execution_count": 5,
     "metadata": {},
     "output_type": "execute_result"
    }
   ],
   "source": [
    "testing()"
   ]
  },
  {
   "cell_type": "code",
   "execution_count": 6,
   "id": "37203ecc",
   "metadata": {},
   "outputs": [],
   "source": [
    "def testing1():  # function definition\n",
    "    '''this is simple testing function'''  # docstring\n",
    "    a=int(input('enter a: '))     # function suite\n",
    "    b=int(input('Enter b: '))\n",
    "    c=a+b\n",
    "    return c "
   ]
  },
  {
   "cell_type": "code",
   "execution_count": 7,
   "id": "deac5d52",
   "metadata": {},
   "outputs": [],
   "source": [
    "def testing2():  # function definition\n",
    "    '''this is simple testing function'''  # docstring\n",
    "    a=int(input('enter a: '))     # function suite\n",
    "    b=int(input('Enter b: '))\n",
    "    c=a+b\n",
    "    print(c) "
   ]
  },
  {
   "cell_type": "code",
   "execution_count": 9,
   "id": "83e775ac",
   "metadata": {},
   "outputs": [
    {
     "name": "stdout",
     "output_type": "stream",
     "text": [
      "enter a: 20\n",
      "Enter b: 40\n"
     ]
    }
   ],
   "source": [
    "a=testing1()"
   ]
  },
  {
   "cell_type": "code",
   "execution_count": 10,
   "id": "484f38e8",
   "metadata": {},
   "outputs": [
    {
     "name": "stdout",
     "output_type": "stream",
     "text": [
      "enter a: 10\n",
      "Enter b: 20\n",
      "30\n"
     ]
    }
   ],
   "source": [
    "b=testing2()"
   ]
  },
  {
   "cell_type": "code",
   "execution_count": 11,
   "id": "d5f36139",
   "metadata": {},
   "outputs": [
    {
     "name": "stdout",
     "output_type": "stream",
     "text": [
      "60\n"
     ]
    }
   ],
   "source": [
    "print(a)"
   ]
  },
  {
   "cell_type": "code",
   "execution_count": 12,
   "id": "01a79919",
   "metadata": {},
   "outputs": [
    {
     "name": "stdout",
     "output_type": "stream",
     "text": [
      "None\n"
     ]
    }
   ],
   "source": [
    "print(b)"
   ]
  },
  {
   "cell_type": "code",
   "execution_count": 13,
   "id": "a15b631b",
   "metadata": {},
   "outputs": [],
   "source": [
    "# arguments\n",
    "# positional\n",
    "# default\n",
    "# keyword"
   ]
  },
  {
   "cell_type": "code",
   "execution_count": 17,
   "id": "28166282",
   "metadata": {},
   "outputs": [],
   "source": [
    "def add(a,b):  # here a nd b are argument  positional agrument\n",
    "    print('value of a: ',a)\n",
    "    print('value of b: ',b)\n",
    "    c=a+b\n",
    "    return c"
   ]
  },
  {
   "cell_type": "code",
   "execution_count": 21,
   "id": "237c4215",
   "metadata": {},
   "outputs": [
    {
     "name": "stdout",
     "output_type": "stream",
     "text": [
      "value of a:  20\n",
      "value of b:  30\n"
     ]
    },
    {
     "data": {
      "text/plain": [
       "50"
      ]
     },
     "execution_count": 21,
     "metadata": {},
     "output_type": "execute_result"
    }
   ],
   "source": [
    "add(20,30)"
   ]
  },
  {
   "cell_type": "code",
   "execution_count": 34,
   "id": "dcaaf939",
   "metadata": {},
   "outputs": [],
   "source": [
    "def add1(a=5,b=10,e='\\n'):   # default argument\n",
    "    print('value of a: ',a)\n",
    "    print('value of b: ',b)\n",
    "    print('value of end= ',repr(e))\n",
    "    c=a+b\n",
    "    return c"
   ]
  },
  {
   "cell_type": "code",
   "execution_count": 37,
   "id": "ebe6276d",
   "metadata": {},
   "outputs": [
    {
     "name": "stdout",
     "output_type": "stream",
     "text": [
      "value of a:  5\n",
      "value of b:  10\n",
      "value of end=  ' '\n"
     ]
    },
    {
     "data": {
      "text/plain": [
       "15"
      ]
     },
     "execution_count": 37,
     "metadata": {},
     "output_type": "execute_result"
    }
   ],
   "source": [
    "add1(e=' ')"
   ]
  },
  {
   "cell_type": "code",
   "execution_count": 38,
   "id": "0684dcf0",
   "metadata": {},
   "outputs": [],
   "source": [
    "# keyword"
   ]
  },
  {
   "cell_type": "code",
   "execution_count": 42,
   "id": "39956941",
   "metadata": {},
   "outputs": [],
   "source": [
    "def add(*a):\n",
    "    print(list(a))\n",
    "    return sum(a)"
   ]
  },
  {
   "cell_type": "code",
   "execution_count": 44,
   "id": "2f0748d9",
   "metadata": {},
   "outputs": [
    {
     "name": "stdout",
     "output_type": "stream",
     "text": [
      "[10, 20, 4, 5, 6, 7, 889]\n"
     ]
    },
    {
     "data": {
      "text/plain": [
       "941"
      ]
     },
     "execution_count": 44,
     "metadata": {},
     "output_type": "execute_result"
    }
   ],
   "source": [
    "add(10,20,4,5,6,7,889)"
   ]
  },
  {
   "cell_type": "markdown",
   "id": "acdca23c",
   "metadata": {},
   "source": [
    "` rock | paper |  scissor\n",
    "\n",
    "com , user    win\n",
    "r      p      user\n",
    "p      s      user\n",
    "s      r      user\n"
   ]
  },
  {
   "cell_type": "code",
   "execution_count": 70,
   "id": "fc16bd6e",
   "metadata": {},
   "outputs": [],
   "source": [
    "# com , user\n",
    "def rps():\n",
    "    c=1\n",
    "    while c<=3:\n",
    "        print('*'*78)\n",
    "        print()\n",
    "        print(f'you have {4-c} chance left'.center(70))\n",
    "        print()\n",
    "        print('*'*78)\n",
    "        user_win_ch=[('r','p'),('p','s'),('s','r')]\n",
    "        import random\n",
    "        com=random.choice(p)\n",
    "        user=input('Enter your choice: r | p | s: ')\n",
    "        res=(com,user)\n",
    "        print('your choice :',user)\n",
    "        print('computer choice: ',com)\n",
    "        if res in user_win_ch:\n",
    "            print('you win')\n",
    "            break\n",
    "        elif com==user:\n",
    "            print('match tie')\n",
    "        else:\n",
    "            print('computer win')\n",
    "        c+=1"
   ]
  },
  {
   "cell_type": "code",
   "execution_count": 46,
   "id": "9527ec07",
   "metadata": {},
   "outputs": [],
   "source": []
  },
  {
   "cell_type": "code",
   "execution_count": 47,
   "id": "d31b9aee",
   "metadata": {},
   "outputs": [],
   "source": [
    "p=['r','p','s']"
   ]
  },
  {
   "cell_type": "code",
   "execution_count": 60,
   "id": "5f33521d",
   "metadata": {},
   "outputs": [
    {
     "data": {
      "text/plain": [
       "'s'"
      ]
     },
     "execution_count": 60,
     "metadata": {},
     "output_type": "execute_result"
    }
   ],
   "source": []
  },
  {
   "cell_type": "code",
   "execution_count": 71,
   "id": "df61147f",
   "metadata": {},
   "outputs": [
    {
     "name": "stdout",
     "output_type": "stream",
     "text": [
      "******************************************************************************\n",
      "\n",
      "                        you have 3 chance left                        \n",
      "\n",
      "******************************************************************************\n",
      "Enter your choice: r | p | s: r\n",
      "your choice : r\n",
      "computer choice:  r\n",
      "match tie\n",
      "******************************************************************************\n",
      "\n",
      "                        you have 2 chance left                        \n",
      "\n",
      "******************************************************************************\n",
      "Enter your choice: r | p | s: r\n",
      "your choice : r\n",
      "computer choice:  s\n",
      "you win\n"
     ]
    }
   ],
   "source": [
    "rps()"
   ]
  },
  {
   "cell_type": "code",
   "execution_count": 72,
   "id": "a797309e",
   "metadata": {},
   "outputs": [],
   "source": [
    "d={'name':'naam','home':'ghar'}"
   ]
  },
  {
   "cell_type": "code",
   "execution_count": 73,
   "id": "af5ee359",
   "metadata": {},
   "outputs": [
    {
     "data": {
      "text/plain": [
       "'naam'"
      ]
     },
     "execution_count": 73,
     "metadata": {},
     "output_type": "execute_result"
    }
   ],
   "source": [
    "d['name']"
   ]
  },
  {
   "cell_type": "code",
   "execution_count": 74,
   "id": "1583be4e",
   "metadata": {},
   "outputs": [
    {
     "data": {
      "text/plain": [
       "'ghar'"
      ]
     },
     "execution_count": 74,
     "metadata": {},
     "output_type": "execute_result"
    }
   ],
   "source": [
    "d['home']"
   ]
  },
  {
   "cell_type": "code",
   "execution_count": 75,
   "id": "b99b1e16",
   "metadata": {},
   "outputs": [],
   "source": [
    "l=['name']"
   ]
  },
  {
   "cell_type": "code",
   "execution_count": null,
   "id": "b663b2ec",
   "metadata": {},
   "outputs": [],
   "source": [
    "\n",
    "    "
   ]
  }
 ],
 "metadata": {
  "kernelspec": {
   "display_name": "Python 3",
   "language": "python",
   "name": "python3"
  },
  "language_info": {
   "codemirror_mode": {
    "name": "ipython",
    "version": 3
   },
   "file_extension": ".py",
   "mimetype": "text/x-python",
   "name": "python",
   "nbconvert_exporter": "python",
   "pygments_lexer": "ipython3",
   "version": "3.6.4"
  }
 },
 "nbformat": 4,
 "nbformat_minor": 5
}
